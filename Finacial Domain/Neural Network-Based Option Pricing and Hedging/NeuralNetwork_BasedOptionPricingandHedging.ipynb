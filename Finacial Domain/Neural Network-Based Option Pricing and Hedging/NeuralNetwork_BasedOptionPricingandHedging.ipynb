{
  "nbformat": 4,
  "nbformat_minor": 0,
  "metadata": {
    "colab": {
      "provenance": []
    },
    "kernelspec": {
      "name": "python3",
      "display_name": "Python 3"
    },
    "language_info": {
      "name": "python"
    }
  },
  "cells": [
    {
      "cell_type": "code",
      "source": [
        "# Load dataset\n",
        "df = pd.read_csv('/content/drive/MyDrive/GirlsScriptOpenSource/Hedging-of-Financial-Derivatives/Neural Network-Based Option Pricing and Hedging/option_data (1).csv')\n"
      ],
      "metadata": {
        "id": "R_josHxNjaiD"
      },
      "execution_count": 21,
      "outputs": []
    },
    {
      "cell_type": "markdown",
      "source": [
        "**Data Preparation**"
      ],
      "metadata": {
        "id": "7Vix0fyImgJN"
      }
    },
    {
      "cell_type": "code",
      "source": [
        "import pandas as pd\n",
        "import numpy as np\n",
        "from sklearn.model_selection import train_test_split\n",
        "from sklearn.preprocessing import StandardScaler\n",
        "import matplotlib.pyplot as plt\n",
        "from tensorflow.keras.models import Sequential\n",
        "from tensorflow.keras.layers import Dense\n",
        "from tensorflow.keras.optimizers import Adam\n",
        "from sklearn.metrics import mean_squared_error\n",
        "from scipy.stats import norm\n",
        "\n",
        "# Load dataset\n",
        "# df = pd.read_csv('option_data.csv')\n",
        "\n",
        "# Preprocess data\n",
        "features = ['strike_price', 'underlying_price', 'volatility', 'time_to_maturity', 'risk_free_rate']\n",
        "target = 'option_price'\n",
        "\n",
        "X = df[features]\n",
        "y = df[target]\n",
        "\n",
        "# Normalize features\n",
        "scaler = StandardScaler()\n",
        "X_scaled = scaler.fit_transform(X)\n",
        "\n",
        "# Split data\n",
        "X_train, X_temp, y_train, y_temp, indices_train, indices_temp = train_test_split(X_scaled, y, df.index, test_size=0.3, random_state=42)\n",
        "X_val, X_test, y_val, y_test, indices_val, indices_test = train_test_split(X_temp, y_temp, indices_temp, test_size=0.5, random_state=42)"
      ],
      "metadata": {
        "id": "WPzlkjzAl8RT"
      },
      "execution_count": 22,
      "outputs": []
    },
    {
      "cell_type": "markdown",
      "source": [
        "**Model Building**"
      ],
      "metadata": {
        "id": "pKW1RP6amtzG"
      }
    },
    {
      "cell_type": "code",
      "source": [
        "# Build neural network model\n",
        "def build_nn_model(input_dim):\n",
        "    model = Sequential()\n",
        "    model.add(Dense(64, input_dim=input_dim, activation='relu'))\n",
        "    model.add(Dense(32, activation='relu'))\n",
        "    model.add(Dense(16, activation='relu'))\n",
        "    model.add(Dense(1))  # Output layer\n",
        "    model.compile(optimizer=Adam(), loss='mean_squared_error')\n",
        "    return model\n",
        "\n",
        "# Train neural network model\n",
        "input_dim = X_train.shape[1]\n",
        "nn_model = build_nn_model(input_dim)\n",
        "history = nn_model.fit(X_train, y_train, validation_data=(X_val, y_val), epochs=100, batch_size=32, verbose=1)\n",
        "\n",
        "# Plot training history\n",
        "plt.plot(history.history['loss'], label='train')\n",
        "plt.plot(history.history['val_loss'], label='validation')\n",
        "plt.xlabel('Epochs')\n",
        "plt.ylabel('Loss')\n",
        "plt.legend()\n",
        "plt.show()\n",
        "\n",
        "# Predict on test set\n",
        "y_pred_nn = nn_model.predict(X_test)\n",
        "\n",
        "# Calculate mean squared error\n",
        "mse_nn = mean_squared_error(y_test, y_pred_nn)\n",
        "print(f\"Neural Network Model MSE: {mse_nn}\")\n"
      ],
      "metadata": {
        "colab": {
          "base_uri": "https://localhost:8080/",
          "height": 1000
        },
        "id": "XdNEUXW2mjL4",
        "outputId": "3c96b0e9-2eb2-42a9-eac7-00a84b30f43b"
      },
      "execution_count": 23,
      "outputs": [
        {
          "output_type": "stream",
          "name": "stdout",
          "text": [
            "Epoch 1/100\n",
            "22/22 [==============================] - 1s 12ms/step - loss: 301.8624 - val_loss: 285.8024\n",
            "Epoch 2/100\n",
            "22/22 [==============================] - 0s 4ms/step - loss: 268.0118 - val_loss: 236.1145\n",
            "Epoch 3/100\n",
            "22/22 [==============================] - 0s 5ms/step - loss: 197.8770 - val_loss: 148.1548\n",
            "Epoch 4/100\n",
            "22/22 [==============================] - 0s 4ms/step - loss: 106.9870 - val_loss: 77.2866\n",
            "Epoch 5/100\n",
            "22/22 [==============================] - 0s 4ms/step - loss: 54.5632 - val_loss: 41.7787\n",
            "Epoch 6/100\n",
            "22/22 [==============================] - 0s 4ms/step - loss: 26.6936 - val_loss: 19.5101\n",
            "Epoch 7/100\n",
            "22/22 [==============================] - 0s 4ms/step - loss: 11.5853 - val_loss: 8.3352\n",
            "Epoch 8/100\n",
            "22/22 [==============================] - 0s 4ms/step - loss: 5.0907 - val_loss: 4.4107\n",
            "Epoch 9/100\n",
            "22/22 [==============================] - 0s 4ms/step - loss: 3.3648 - val_loss: 3.2578\n",
            "Epoch 10/100\n",
            "22/22 [==============================] - 0s 4ms/step - loss: 2.5990 - val_loss: 2.6197\n",
            "Epoch 11/100\n",
            "22/22 [==============================] - 0s 4ms/step - loss: 2.0582 - val_loss: 2.1233\n",
            "Epoch 12/100\n",
            "22/22 [==============================] - 0s 4ms/step - loss: 1.7156 - val_loss: 1.7728\n",
            "Epoch 13/100\n",
            "22/22 [==============================] - 0s 5ms/step - loss: 1.4253 - val_loss: 1.5490\n",
            "Epoch 14/100\n",
            "22/22 [==============================] - 0s 5ms/step - loss: 1.2297 - val_loss: 1.3150\n",
            "Epoch 15/100\n",
            "22/22 [==============================] - 0s 5ms/step - loss: 1.0718 - val_loss: 1.1811\n",
            "Epoch 16/100\n",
            "22/22 [==============================] - 0s 4ms/step - loss: 0.9487 - val_loss: 1.0806\n",
            "Epoch 17/100\n",
            "22/22 [==============================] - 0s 4ms/step - loss: 0.8663 - val_loss: 1.0090\n",
            "Epoch 18/100\n",
            "22/22 [==============================] - 0s 4ms/step - loss: 0.7906 - val_loss: 0.9713\n",
            "Epoch 19/100\n",
            "22/22 [==============================] - 0s 5ms/step - loss: 0.7285 - val_loss: 0.8905\n",
            "Epoch 20/100\n",
            "22/22 [==============================] - 0s 4ms/step - loss: 0.6686 - val_loss: 0.8585\n",
            "Epoch 21/100\n",
            "22/22 [==============================] - 0s 4ms/step - loss: 0.6358 - val_loss: 0.7953\n",
            "Epoch 22/100\n",
            "22/22 [==============================] - 0s 4ms/step - loss: 0.6003 - val_loss: 0.7598\n",
            "Epoch 23/100\n",
            "22/22 [==============================] - 0s 6ms/step - loss: 0.5687 - val_loss: 0.7371\n",
            "Epoch 24/100\n",
            "22/22 [==============================] - 0s 5ms/step - loss: 0.5469 - val_loss: 0.7171\n",
            "Epoch 25/100\n",
            "22/22 [==============================] - 0s 4ms/step - loss: 0.5293 - val_loss: 0.6868\n",
            "Epoch 26/100\n",
            "22/22 [==============================] - 0s 5ms/step - loss: 0.4984 - val_loss: 0.6822\n",
            "Epoch 27/100\n",
            "22/22 [==============================] - 0s 6ms/step - loss: 0.4798 - val_loss: 0.6762\n",
            "Epoch 28/100\n",
            "22/22 [==============================] - 0s 5ms/step - loss: 0.4570 - val_loss: 0.6404\n",
            "Epoch 29/100\n",
            "22/22 [==============================] - 0s 6ms/step - loss: 0.4394 - val_loss: 0.6318\n",
            "Epoch 30/100\n",
            "22/22 [==============================] - 0s 5ms/step - loss: 0.4265 - val_loss: 0.6065\n",
            "Epoch 31/100\n",
            "22/22 [==============================] - 0s 6ms/step - loss: 0.4009 - val_loss: 0.6070\n",
            "Epoch 32/100\n",
            "22/22 [==============================] - 0s 6ms/step - loss: 0.3931 - val_loss: 0.6158\n",
            "Epoch 33/100\n",
            "22/22 [==============================] - 0s 5ms/step - loss: 0.3726 - val_loss: 0.5578\n",
            "Epoch 34/100\n",
            "22/22 [==============================] - 0s 6ms/step - loss: 0.3602 - val_loss: 0.5636\n",
            "Epoch 35/100\n",
            "22/22 [==============================] - 0s 5ms/step - loss: 0.3514 - val_loss: 0.5479\n",
            "Epoch 36/100\n",
            "22/22 [==============================] - 0s 6ms/step - loss: 0.3350 - val_loss: 0.5483\n",
            "Epoch 37/100\n",
            "22/22 [==============================] - 0s 6ms/step - loss: 0.3253 - val_loss: 0.5182\n",
            "Epoch 38/100\n",
            "22/22 [==============================] - 0s 5ms/step - loss: 0.3270 - val_loss: 0.5234\n",
            "Epoch 39/100\n",
            "22/22 [==============================] - 0s 7ms/step - loss: 0.3134 - val_loss: 0.4992\n",
            "Epoch 40/100\n",
            "22/22 [==============================] - 0s 6ms/step - loss: 0.3045 - val_loss: 0.4924\n",
            "Epoch 41/100\n",
            "22/22 [==============================] - 0s 6ms/step - loss: 0.2867 - val_loss: 0.4876\n",
            "Epoch 42/100\n",
            "22/22 [==============================] - 0s 5ms/step - loss: 0.2786 - val_loss: 0.4846\n",
            "Epoch 43/100\n",
            "22/22 [==============================] - 0s 5ms/step - loss: 0.2754 - val_loss: 0.4464\n",
            "Epoch 44/100\n",
            "22/22 [==============================] - 0s 4ms/step - loss: 0.2747 - val_loss: 0.4560\n",
            "Epoch 45/100\n",
            "22/22 [==============================] - 0s 5ms/step - loss: 0.2657 - val_loss: 0.4273\n",
            "Epoch 46/100\n",
            "22/22 [==============================] - 0s 5ms/step - loss: 0.2497 - val_loss: 0.4710\n",
            "Epoch 47/100\n",
            "22/22 [==============================] - 0s 6ms/step - loss: 0.2407 - val_loss: 0.4266\n",
            "Epoch 48/100\n",
            "22/22 [==============================] - 0s 5ms/step - loss: 0.2368 - val_loss: 0.4267\n",
            "Epoch 49/100\n",
            "22/22 [==============================] - 0s 5ms/step - loss: 0.2270 - val_loss: 0.4058\n",
            "Epoch 50/100\n",
            "22/22 [==============================] - 0s 4ms/step - loss: 0.2210 - val_loss: 0.3993\n",
            "Epoch 51/100\n",
            "22/22 [==============================] - 0s 5ms/step - loss: 0.2195 - val_loss: 0.3988\n",
            "Epoch 52/100\n",
            "22/22 [==============================] - 0s 5ms/step - loss: 0.2077 - val_loss: 0.4011\n",
            "Epoch 53/100\n",
            "22/22 [==============================] - 0s 5ms/step - loss: 0.2022 - val_loss: 0.3918\n",
            "Epoch 54/100\n",
            "22/22 [==============================] - 0s 5ms/step - loss: 0.2019 - val_loss: 0.3565\n",
            "Epoch 55/100\n",
            "22/22 [==============================] - 0s 7ms/step - loss: 0.1920 - val_loss: 0.3584\n",
            "Epoch 56/100\n",
            "22/22 [==============================] - 0s 7ms/step - loss: 0.1886 - val_loss: 0.3701\n",
            "Epoch 57/100\n",
            "22/22 [==============================] - 0s 7ms/step - loss: 0.1823 - val_loss: 0.3425\n",
            "Epoch 58/100\n",
            "22/22 [==============================] - 0s 6ms/step - loss: 0.1744 - val_loss: 0.3471\n",
            "Epoch 59/100\n",
            "22/22 [==============================] - 0s 6ms/step - loss: 0.1727 - val_loss: 0.3268\n",
            "Epoch 60/100\n",
            "22/22 [==============================] - 0s 6ms/step - loss: 0.1629 - val_loss: 0.3179\n",
            "Epoch 61/100\n",
            "22/22 [==============================] - 0s 7ms/step - loss: 0.1606 - val_loss: 0.3347\n",
            "Epoch 62/100\n",
            "22/22 [==============================] - 0s 8ms/step - loss: 0.1668 - val_loss: 0.3633\n",
            "Epoch 63/100\n",
            "22/22 [==============================] - 0s 7ms/step - loss: 0.1620 - val_loss: 0.3126\n",
            "Epoch 64/100\n",
            "22/22 [==============================] - 0s 7ms/step - loss: 0.1503 - val_loss: 0.2857\n",
            "Epoch 65/100\n",
            "22/22 [==============================] - 0s 7ms/step - loss: 0.1488 - val_loss: 0.2959\n",
            "Epoch 66/100\n",
            "22/22 [==============================] - 0s 7ms/step - loss: 0.1390 - val_loss: 0.2976\n",
            "Epoch 67/100\n",
            "22/22 [==============================] - 0s 7ms/step - loss: 0.1369 - val_loss: 0.2890\n",
            "Epoch 68/100\n",
            "22/22 [==============================] - 0s 7ms/step - loss: 0.1329 - val_loss: 0.2770\n",
            "Epoch 69/100\n",
            "22/22 [==============================] - 0s 7ms/step - loss: 0.1318 - val_loss: 0.2794\n",
            "Epoch 70/100\n",
            "22/22 [==============================] - 0s 6ms/step - loss: 0.1282 - val_loss: 0.2754\n",
            "Epoch 71/100\n",
            "22/22 [==============================] - 0s 6ms/step - loss: 0.1244 - val_loss: 0.2748\n",
            "Epoch 72/100\n",
            "22/22 [==============================] - 0s 6ms/step - loss: 0.1249 - val_loss: 0.2601\n",
            "Epoch 73/100\n",
            "22/22 [==============================] - 0s 6ms/step - loss: 0.1154 - val_loss: 0.2695\n",
            "Epoch 74/100\n",
            "22/22 [==============================] - 0s 7ms/step - loss: 0.1116 - val_loss: 0.2416\n",
            "Epoch 75/100\n",
            "22/22 [==============================] - 0s 9ms/step - loss: 0.1105 - val_loss: 0.2344\n",
            "Epoch 76/100\n",
            "22/22 [==============================] - 0s 7ms/step - loss: 0.1081 - val_loss: 0.2320\n",
            "Epoch 77/100\n",
            "22/22 [==============================] - 0s 7ms/step - loss: 0.1044 - val_loss: 0.2455\n",
            "Epoch 78/100\n",
            "22/22 [==============================] - 0s 6ms/step - loss: 0.1058 - val_loss: 0.2242\n",
            "Epoch 79/100\n",
            "22/22 [==============================] - 0s 6ms/step - loss: 0.0999 - val_loss: 0.2302\n",
            "Epoch 80/100\n",
            "22/22 [==============================] - 0s 6ms/step - loss: 0.0942 - val_loss: 0.2258\n",
            "Epoch 81/100\n",
            "22/22 [==============================] - 0s 7ms/step - loss: 0.0962 - val_loss: 0.2155\n",
            "Epoch 82/100\n",
            "22/22 [==============================] - 0s 8ms/step - loss: 0.0893 - val_loss: 0.2134\n",
            "Epoch 83/100\n",
            "22/22 [==============================] - 0s 7ms/step - loss: 0.0897 - val_loss: 0.2015\n",
            "Epoch 84/100\n",
            "22/22 [==============================] - 0s 6ms/step - loss: 0.0892 - val_loss: 0.1959\n",
            "Epoch 85/100\n",
            "22/22 [==============================] - 0s 4ms/step - loss: 0.0878 - val_loss: 0.2015\n",
            "Epoch 86/100\n",
            "22/22 [==============================] - 0s 4ms/step - loss: 0.0823 - val_loss: 0.1898\n",
            "Epoch 87/100\n",
            "22/22 [==============================] - 0s 5ms/step - loss: 0.0837 - val_loss: 0.1986\n",
            "Epoch 88/100\n",
            "22/22 [==============================] - 0s 4ms/step - loss: 0.0800 - val_loss: 0.1899\n",
            "Epoch 89/100\n",
            "22/22 [==============================] - 0s 4ms/step - loss: 0.0796 - val_loss: 0.1935\n",
            "Epoch 90/100\n",
            "22/22 [==============================] - 0s 5ms/step - loss: 0.0796 - val_loss: 0.1856\n",
            "Epoch 91/100\n",
            "22/22 [==============================] - 0s 5ms/step - loss: 0.0725 - val_loss: 0.1974\n",
            "Epoch 92/100\n",
            "22/22 [==============================] - 0s 4ms/step - loss: 0.0716 - val_loss: 0.1871\n",
            "Epoch 93/100\n",
            "22/22 [==============================] - 0s 4ms/step - loss: 0.0677 - val_loss: 0.1869\n",
            "Epoch 94/100\n",
            "22/22 [==============================] - 0s 4ms/step - loss: 0.0691 - val_loss: 0.1707\n",
            "Epoch 95/100\n",
            "22/22 [==============================] - 0s 4ms/step - loss: 0.0653 - val_loss: 0.1731\n",
            "Epoch 96/100\n",
            "22/22 [==============================] - 0s 4ms/step - loss: 0.0641 - val_loss: 0.1708\n",
            "Epoch 97/100\n",
            "22/22 [==============================] - 0s 4ms/step - loss: 0.0644 - val_loss: 0.1709\n",
            "Epoch 98/100\n",
            "22/22 [==============================] - 0s 4ms/step - loss: 0.0618 - val_loss: 0.1542\n",
            "Epoch 99/100\n",
            "22/22 [==============================] - 0s 5ms/step - loss: 0.0620 - val_loss: 0.1708\n",
            "Epoch 100/100\n",
            "22/22 [==============================] - 0s 5ms/step - loss: 0.0576 - val_loss: 0.1635\n"
          ]
        },
        {
          "output_type": "display_data",
          "data": {
            "text/plain": [
              "<Figure size 640x480 with 1 Axes>"
            ],
            "image/png": "[encoded data removed]"
          },
          "metadata": {}
        },
        {
          "output_type": "stream",
          "name": "stdout",
          "text": [
            "5/5 [==============================] - 0s 3ms/step\n",
            "Neural Network Model MSE: 0.11381590585021895\n"
          ]
        }
      ]
    },
    {
      "cell_type": "markdown",
      "source": [
        "**Model Evaluation and Comparison with Black-Scholes**"
      ],
      "metadata": {
        "id": "Wci0IvNnm6Le"
      }
    },
    {
      "cell_type": "markdown",
      "source": [
        "The Black-Scholes model is a mathematical model for pricing options. It was developed by economists Fischer Black, Myron Scholes, and Robert Merton in the early 1970s. The model provides a theoretical estimate of the price of European-style options and has become one of the most widely used methods for option pricing."
      ],
      "metadata": {
        "id": "v0rf3VgilKJJ"
      }
    },
    {
      "cell_type": "code",
      "source": [
        "# Function to calculate Black-Scholes price (assuming European Call option for simplicity)\n",
        "def black_scholes_price(S, K, T, r, sigma, option_type='call'):\n",
        "    d1 = (np.log(S / K) + (r + 0.5 * sigma ** 2) * T) / (sigma * np.sqrt(T))\n",
        "    d2 = d1 - sigma * np.sqrt(T)\n",
        "    if option_type == 'call':\n",
        "        price = S * norm.cdf(d1) - K * np.exp(-r * T) * norm.cdf(d2)\n",
        "    else:\n",
        "        price = K * np.exp(-r * T) * norm.cdf(-d2) - S * norm.cdf(-d1)\n",
        "    return price\n",
        "\n",
        "# Convert X_test back to original scale\n",
        "X_test_original = scaler.inverse_transform(X_test)\n",
        "\n",
        "# Predict using Black-Scholes model\n",
        "y_pred_bs = [black_scholes_price(S, K, T, r, sigma) for S, K, T, r, sigma in zip(\n",
        "    X_test_original[:, 1],  # underlying_price\n",
        "    X_test_original[:, 0],  # strike_price\n",
        "    X_test_original[:, 3],  # time_to_maturity\n",
        "    X_test_original[:, 4],  # risk_free_rate\n",
        "    X_test_original[:, 2]   # volatility\n",
        ")]\n",
        "\n",
        "# Calculate mean squared error\n",
        "mse_bs = mean_squared_error(y_test, y_pred_bs)\n",
        "print(f\"Black-Scholes Model MSE: {mse_bs}\")"
      ],
      "metadata": {
        "colab": {
          "base_uri": "https://localhost:8080/"
        },
        "id": "EQlmsALImT-A",
        "outputId": "32ce94fa-d488-457b-c0e3-77cd50edc83d"
      },
      "execution_count": 24,
      "outputs": [
        {
          "output_type": "stream",
          "name": "stdout",
          "text": [
            "Black-Scholes Model MSE: 1.0725300246512016e-28\n"
          ]
        }
      ]
    },
    {
      "cell_type": "markdown",
      "source": [
        "**Hedging Strategy**"
      ],
      "metadata": {
        "id": "QjkmW6Tcm_u_"
      }
    },
    {
      "cell_type": "code",
      "source": [
        "# Function to calculate delta using Black-Scholes formula (for simplicity, considering European Call options)\n",
        "def black_scholes_delta(S, K, T, r, sigma, option_type='call'):\n",
        "    d1 = (np.log(S / K) + (r + 0.5 * sigma ** 2) * T) / (sigma * np.sqrt(T))\n",
        "    if option_type == 'call':\n",
        "        delta = norm.cdf(d1)\n",
        "    else:\n",
        "        delta = norm.cdf(d1) - 1\n",
        "    return delta\n",
        "\n",
        "# Calculate delta for each option in the test set using Black-Scholes\n",
        "delta_bs = [black_scholes_delta(S, K, T, r, sigma) for S, K, T, r, sigma in zip(\n",
        "    df.loc[indices_test, 'underlying_price'],\n",
        "    df.loc[indices_test, 'strike_price'],\n",
        "    df.loc[indices_test, 'time_to_maturity'],\n",
        "    df.loc[indices_test, 'risk_free_rate'],\n",
        "    df.loc[indices_test, 'volatility']\n",
        ")]\n",
        "\n",
        "# Assuming we have a method to calculate delta using the neural network model (this requires further implementation)\n",
        "def neural_network_delta(model, X):\n",
        "    # This is a placeholder function\n",
        "    # You need to implement a method to calculate delta using the neural network model\n",
        "    return np.gradient(model.predict(X).flatten())\n",
        "\n",
        "# Calculate delta using the neural network model\n",
        "delta_nn = neural_network_delta(nn_model, X_test)\n",
        "\n",
        "# Compare hedging performance (this is a simplified example, actual implementation will vary)\n",
        "# Hedging cost and risk metrics need to be calculated for a full comparison\n",
        "hedging_performance_bs = np.sum(np.abs(delta_bs - df.loc[indices_test, 'underlying_price']))\n",
        "hedging_performance_nn = np.sum(np.abs(delta_nn - df.loc[indices_test, 'underlying_price']))\n",
        "\n",
        "print(f\"Black-Scholes Hedging Performance: {hedging_performance_bs}\")\n",
        "print(f\"Neural Network Hedging Performance: {hedging_performance_nn}\")"
      ],
      "metadata": {
        "colab": {
          "base_uri": "https://localhost:8080/"
        },
        "id": "ggGp0BDJmYFd",
        "outputId": "1cc9cec0-b703-41a8-988a-d45bec690351"
      },
      "execution_count": 25,
      "outputs": [
        {
          "output_type": "stream",
          "name": "stdout",
          "text": [
            "5/5 [==============================] - 0s 3ms/step\n",
            "Black-Scholes Hedging Performance: 14614.124992551038\n",
            "Neural Network Hedging Performance: 14715.183720701436\n"
          ]
        }
      ]
    }
  ]
}