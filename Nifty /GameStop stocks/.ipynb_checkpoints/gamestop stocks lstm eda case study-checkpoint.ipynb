{
 "cells": [
  {
   "cell_type": "markdown",
   "id": "technological-parcel",
   "metadata": {
    "papermill": {
     "duration": 0.033745,
     "end_time": "2021-07-11T08:50:19.541219",
     "exception": false,
     "start_time": "2021-07-11T08:50:19.507474",
     "status": "completed"
    },
    "tags": []
   },
   "source": [
    "## Obtaining data and importing libraries"
   ]
  },
  {
   "cell_type": "code",
   "execution_count": 1,
   "id": "cross-declaration",
   "metadata": {
    "execution": {
     "iopub.execute_input": "2021-07-11T08:50:19.621706Z",
     "iopub.status.busy": "2021-07-11T08:50:19.621036Z",
     "iopub.status.idle": "2021-07-11T08:50:23.290228Z",
     "shell.execute_reply": "2021-07-11T08:50:23.289025Z",
     "shell.execute_reply.started": "2021-07-11T08:18:16.166136Z"
    },
    "papermill": {
     "duration": 3.715119,
     "end_time": "2021-07-11T08:50:23.290417",
     "exception": false,
     "start_time": "2021-07-11T08:50:19.575298",
     "status": "completed"
    },
    "tags": []
   },
   "outputs": [],
   "source": [
    "import numpy as np\n",
    "import pandas as pd   \n",
    "\n",
    "#Importing data visulaisation libraries\n",
    "import matplotlib.pyplot as plt\n",
    "import seaborn as sns\n",
    "import plotly.express as px\n",
    "from plotly.subplots import make_subplots\n",
    "import plotly.graph_objects as go\n",
    "import plotly.figure_factory as ff\n",
    "\n",
    "import datetime as dt\n",
    "import missingno as msno\n",
    "import warnings\n",
    "warnings.filterwarnings('ignore')"
   ]
  },
  {
   "cell_type": "code",
   "execution_count": 2,
   "id": "endangered-senegal",
   "metadata": {
    "execution": {
     "iopub.execute_input": "2021-07-11T08:50:23.364454Z",
     "iopub.status.busy": "2021-07-11T08:50:23.363840Z",
     "iopub.status.idle": "2021-07-11T08:50:23.423195Z",
     "shell.execute_reply": "2021-07-11T08:50:23.423695Z",
     "shell.execute_reply.started": "2021-07-11T08:19:13.440986Z"
    },
    "papermill": {
     "duration": 0.099177,
     "end_time": "2021-07-11T08:50:23.423868",
     "exception": false,
     "start_time": "2021-07-11T08:50:23.324691",
     "status": "completed"
    },
    "tags": []
   },
   "outputs": [
    {
     "ename": "FileNotFoundError",
     "evalue": "[Errno 2] No such file or directory: 'GME_stock.csv'",
     "output_type": "error",
     "traceback": [
      "\u001b[0;31m---------------------------------------------------------------------------\u001b[0m",
      "\u001b[0;31mFileNotFoundError\u001b[0m                         Traceback (most recent call last)",
      "Cell \u001b[0;32mIn[2], line 1\u001b[0m\n\u001b[0;32m----> 1\u001b[0m stock_df\u001b[38;5;241m=\u001b[39mpd\u001b[38;5;241m.\u001b[39mread_csv(\u001b[38;5;124m\"\u001b[39m\u001b[38;5;124mGME_stock.csv\u001b[39m\u001b[38;5;124m\"\u001b[39m)\n\u001b[1;32m      2\u001b[0m stock_df\u001b[38;5;241m.\u001b[39mhead()\n",
      "File \u001b[0;32m~/anaconda3/lib/python3.11/site-packages/pandas/io/parsers/readers.py:912\u001b[0m, in \u001b[0;36mread_csv\u001b[0;34m(filepath_or_buffer, sep, delimiter, header, names, index_col, usecols, dtype, engine, converters, true_values, false_values, skipinitialspace, skiprows, skipfooter, nrows, na_values, keep_default_na, na_filter, verbose, skip_blank_lines, parse_dates, infer_datetime_format, keep_date_col, date_parser, date_format, dayfirst, cache_dates, iterator, chunksize, compression, thousands, decimal, lineterminator, quotechar, quoting, doublequote, escapechar, comment, encoding, encoding_errors, dialect, on_bad_lines, delim_whitespace, low_memory, memory_map, float_precision, storage_options, dtype_backend)\u001b[0m\n\u001b[1;32m    899\u001b[0m kwds_defaults \u001b[38;5;241m=\u001b[39m _refine_defaults_read(\n\u001b[1;32m    900\u001b[0m     dialect,\n\u001b[1;32m    901\u001b[0m     delimiter,\n\u001b[0;32m   (...)\u001b[0m\n\u001b[1;32m    908\u001b[0m     dtype_backend\u001b[38;5;241m=\u001b[39mdtype_backend,\n\u001b[1;32m    909\u001b[0m )\n\u001b[1;32m    910\u001b[0m kwds\u001b[38;5;241m.\u001b[39mupdate(kwds_defaults)\n\u001b[0;32m--> 912\u001b[0m \u001b[38;5;28;01mreturn\u001b[39;00m _read(filepath_or_buffer, kwds)\n",
      "File \u001b[0;32m~/anaconda3/lib/python3.11/site-packages/pandas/io/parsers/readers.py:577\u001b[0m, in \u001b[0;36m_read\u001b[0;34m(filepath_or_buffer, kwds)\u001b[0m\n\u001b[1;32m    574\u001b[0m _validate_names(kwds\u001b[38;5;241m.\u001b[39mget(\u001b[38;5;124m\"\u001b[39m\u001b[38;5;124mnames\u001b[39m\u001b[38;5;124m\"\u001b[39m, \u001b[38;5;28;01mNone\u001b[39;00m))\n\u001b[1;32m    576\u001b[0m \u001b[38;5;66;03m# Create the parser.\u001b[39;00m\n\u001b[0;32m--> 577\u001b[0m parser \u001b[38;5;241m=\u001b[39m TextFileReader(filepath_or_buffer, \u001b[38;5;241m*\u001b[39m\u001b[38;5;241m*\u001b[39mkwds)\n\u001b[1;32m    579\u001b[0m \u001b[38;5;28;01mif\u001b[39;00m chunksize \u001b[38;5;129;01mor\u001b[39;00m iterator:\n\u001b[1;32m    580\u001b[0m     \u001b[38;5;28;01mreturn\u001b[39;00m parser\n",
      "File \u001b[0;32m~/anaconda3/lib/python3.11/site-packages/pandas/io/parsers/readers.py:1407\u001b[0m, in \u001b[0;36mTextFileReader.__init__\u001b[0;34m(self, f, engine, **kwds)\u001b[0m\n\u001b[1;32m   1404\u001b[0m     \u001b[38;5;28mself\u001b[39m\u001b[38;5;241m.\u001b[39moptions[\u001b[38;5;124m\"\u001b[39m\u001b[38;5;124mhas_index_names\u001b[39m\u001b[38;5;124m\"\u001b[39m] \u001b[38;5;241m=\u001b[39m kwds[\u001b[38;5;124m\"\u001b[39m\u001b[38;5;124mhas_index_names\u001b[39m\u001b[38;5;124m\"\u001b[39m]\n\u001b[1;32m   1406\u001b[0m \u001b[38;5;28mself\u001b[39m\u001b[38;5;241m.\u001b[39mhandles: IOHandles \u001b[38;5;241m|\u001b[39m \u001b[38;5;28;01mNone\u001b[39;00m \u001b[38;5;241m=\u001b[39m \u001b[38;5;28;01mNone\u001b[39;00m\n\u001b[0;32m-> 1407\u001b[0m \u001b[38;5;28mself\u001b[39m\u001b[38;5;241m.\u001b[39m_engine \u001b[38;5;241m=\u001b[39m \u001b[38;5;28mself\u001b[39m\u001b[38;5;241m.\u001b[39m_make_engine(f, \u001b[38;5;28mself\u001b[39m\u001b[38;5;241m.\u001b[39mengine)\n",
      "File \u001b[0;32m~/anaconda3/lib/python3.11/site-packages/pandas/io/parsers/readers.py:1661\u001b[0m, in \u001b[0;36mTextFileReader._make_engine\u001b[0;34m(self, f, engine)\u001b[0m\n\u001b[1;32m   1659\u001b[0m     \u001b[38;5;28;01mif\u001b[39;00m \u001b[38;5;124m\"\u001b[39m\u001b[38;5;124mb\u001b[39m\u001b[38;5;124m\"\u001b[39m \u001b[38;5;129;01mnot\u001b[39;00m \u001b[38;5;129;01min\u001b[39;00m mode:\n\u001b[1;32m   1660\u001b[0m         mode \u001b[38;5;241m+\u001b[39m\u001b[38;5;241m=\u001b[39m \u001b[38;5;124m\"\u001b[39m\u001b[38;5;124mb\u001b[39m\u001b[38;5;124m\"\u001b[39m\n\u001b[0;32m-> 1661\u001b[0m \u001b[38;5;28mself\u001b[39m\u001b[38;5;241m.\u001b[39mhandles \u001b[38;5;241m=\u001b[39m get_handle(\n\u001b[1;32m   1662\u001b[0m     f,\n\u001b[1;32m   1663\u001b[0m     mode,\n\u001b[1;32m   1664\u001b[0m     encoding\u001b[38;5;241m=\u001b[39m\u001b[38;5;28mself\u001b[39m\u001b[38;5;241m.\u001b[39moptions\u001b[38;5;241m.\u001b[39mget(\u001b[38;5;124m\"\u001b[39m\u001b[38;5;124mencoding\u001b[39m\u001b[38;5;124m\"\u001b[39m, \u001b[38;5;28;01mNone\u001b[39;00m),\n\u001b[1;32m   1665\u001b[0m     compression\u001b[38;5;241m=\u001b[39m\u001b[38;5;28mself\u001b[39m\u001b[38;5;241m.\u001b[39moptions\u001b[38;5;241m.\u001b[39mget(\u001b[38;5;124m\"\u001b[39m\u001b[38;5;124mcompression\u001b[39m\u001b[38;5;124m\"\u001b[39m, \u001b[38;5;28;01mNone\u001b[39;00m),\n\u001b[1;32m   1666\u001b[0m     memory_map\u001b[38;5;241m=\u001b[39m\u001b[38;5;28mself\u001b[39m\u001b[38;5;241m.\u001b[39moptions\u001b[38;5;241m.\u001b[39mget(\u001b[38;5;124m\"\u001b[39m\u001b[38;5;124mmemory_map\u001b[39m\u001b[38;5;124m\"\u001b[39m, \u001b[38;5;28;01mFalse\u001b[39;00m),\n\u001b[1;32m   1667\u001b[0m     is_text\u001b[38;5;241m=\u001b[39mis_text,\n\u001b[1;32m   1668\u001b[0m     errors\u001b[38;5;241m=\u001b[39m\u001b[38;5;28mself\u001b[39m\u001b[38;5;241m.\u001b[39moptions\u001b[38;5;241m.\u001b[39mget(\u001b[38;5;124m\"\u001b[39m\u001b[38;5;124mencoding_errors\u001b[39m\u001b[38;5;124m\"\u001b[39m, \u001b[38;5;124m\"\u001b[39m\u001b[38;5;124mstrict\u001b[39m\u001b[38;5;124m\"\u001b[39m),\n\u001b[1;32m   1669\u001b[0m     storage_options\u001b[38;5;241m=\u001b[39m\u001b[38;5;28mself\u001b[39m\u001b[38;5;241m.\u001b[39moptions\u001b[38;5;241m.\u001b[39mget(\u001b[38;5;124m\"\u001b[39m\u001b[38;5;124mstorage_options\u001b[39m\u001b[38;5;124m\"\u001b[39m, \u001b[38;5;28;01mNone\u001b[39;00m),\n\u001b[1;32m   1670\u001b[0m )\n\u001b[1;32m   1671\u001b[0m \u001b[38;5;28;01massert\u001b[39;00m \u001b[38;5;28mself\u001b[39m\u001b[38;5;241m.\u001b[39mhandles \u001b[38;5;129;01mis\u001b[39;00m \u001b[38;5;129;01mnot\u001b[39;00m \u001b[38;5;28;01mNone\u001b[39;00m\n\u001b[1;32m   1672\u001b[0m f \u001b[38;5;241m=\u001b[39m \u001b[38;5;28mself\u001b[39m\u001b[38;5;241m.\u001b[39mhandles\u001b[38;5;241m.\u001b[39mhandle\n",
      "File \u001b[0;32m~/anaconda3/lib/python3.11/site-packages/pandas/io/common.py:859\u001b[0m, in \u001b[0;36mget_handle\u001b[0;34m(path_or_buf, mode, encoding, compression, memory_map, is_text, errors, storage_options)\u001b[0m\n\u001b[1;32m    854\u001b[0m \u001b[38;5;28;01melif\u001b[39;00m \u001b[38;5;28misinstance\u001b[39m(handle, \u001b[38;5;28mstr\u001b[39m):\n\u001b[1;32m    855\u001b[0m     \u001b[38;5;66;03m# Check whether the filename is to be opened in binary mode.\u001b[39;00m\n\u001b[1;32m    856\u001b[0m     \u001b[38;5;66;03m# Binary mode does not support 'encoding' and 'newline'.\u001b[39;00m\n\u001b[1;32m    857\u001b[0m     \u001b[38;5;28;01mif\u001b[39;00m ioargs\u001b[38;5;241m.\u001b[39mencoding \u001b[38;5;129;01mand\u001b[39;00m \u001b[38;5;124m\"\u001b[39m\u001b[38;5;124mb\u001b[39m\u001b[38;5;124m\"\u001b[39m \u001b[38;5;129;01mnot\u001b[39;00m \u001b[38;5;129;01min\u001b[39;00m ioargs\u001b[38;5;241m.\u001b[39mmode:\n\u001b[1;32m    858\u001b[0m         \u001b[38;5;66;03m# Encoding\u001b[39;00m\n\u001b[0;32m--> 859\u001b[0m         handle \u001b[38;5;241m=\u001b[39m \u001b[38;5;28mopen\u001b[39m(\n\u001b[1;32m    860\u001b[0m             handle,\n\u001b[1;32m    861\u001b[0m             ioargs\u001b[38;5;241m.\u001b[39mmode,\n\u001b[1;32m    862\u001b[0m             encoding\u001b[38;5;241m=\u001b[39mioargs\u001b[38;5;241m.\u001b[39mencoding,\n\u001b[1;32m    863\u001b[0m             errors\u001b[38;5;241m=\u001b[39merrors,\n\u001b[1;32m    864\u001b[0m             newline\u001b[38;5;241m=\u001b[39m\u001b[38;5;124m\"\u001b[39m\u001b[38;5;124m\"\u001b[39m,\n\u001b[1;32m    865\u001b[0m         )\n\u001b[1;32m    866\u001b[0m     \u001b[38;5;28;01melse\u001b[39;00m:\n\u001b[1;32m    867\u001b[0m         \u001b[38;5;66;03m# Binary mode\u001b[39;00m\n\u001b[1;32m    868\u001b[0m         handle \u001b[38;5;241m=\u001b[39m \u001b[38;5;28mopen\u001b[39m(handle, ioargs\u001b[38;5;241m.\u001b[39mmode)\n",
      "\u001b[0;31mFileNotFoundError\u001b[0m: [Errno 2] No such file or directory: 'GME_stock.csv'"
     ]
    }
   ],
   "source": [
    "stock_df=pd.read_csv(\"GME_stock.csv\")\n",
    "stock_df.head()  #Displaying the first 5 rows of the dataframe"
   ]
  },
  {
   "cell_type": "code",
   "execution_count": null,
   "id": "ideal-excellence",
   "metadata": {
    "execution": {
     "iopub.execute_input": "2021-07-11T08:50:23.500525Z",
     "iopub.status.busy": "2021-07-11T08:50:23.499551Z",
     "iopub.status.idle": "2021-07-11T08:50:23.504737Z",
     "shell.execute_reply": "2021-07-11T08:50:23.504068Z",
     "shell.execute_reply.started": "2021-07-11T08:19:41.155878Z"
    },
    "papermill": {
     "duration": 0.046617,
     "end_time": "2021-07-11T08:50:23.504878",
     "exception": false,
     "start_time": "2021-07-11T08:50:23.458261",
     "status": "completed"
    },
    "tags": []
   },
   "outputs": [],
   "source": [
    "print('Shape of stock_df: ',stock_df.shape)\n",
    "print('Name of the columns of stock_df :',stock_df.columns)"
   ]
  },
  {
   "cell_type": "code",
   "execution_count": null,
   "id": "answering-boxing",
   "metadata": {
    "execution": {
     "iopub.execute_input": "2021-07-11T08:50:23.583919Z",
     "iopub.status.busy": "2021-07-11T08:50:23.583192Z",
     "iopub.status.idle": "2021-07-11T08:50:24.022009Z",
     "shell.execute_reply": "2021-07-11T08:50:24.021428Z",
     "shell.execute_reply.started": "2021-07-11T08:19:50.695877Z"
    },
    "papermill": {
     "duration": 0.481471,
     "end_time": "2021-07-11T08:50:24.022165",
     "exception": false,
     "start_time": "2021-07-11T08:50:23.540694",
     "status": "completed"
    },
    "tags": []
   },
   "outputs": [],
   "source": [
    "#Checking if there are any missing values\n",
    "\n",
    "plt.figure(figsize=(2,2))\n",
    "msno.matrix(stock_df)"
   ]
  },
  {
   "cell_type": "markdown",
   "id": "limited-henry",
   "metadata": {
    "papermill": {
     "duration": 0.036552,
     "end_time": "2021-07-11T08:50:24.095864",
     "exception": false,
     "start_time": "2021-07-11T08:50:24.059312",
     "status": "completed"
    },
    "tags": []
   },
   "source": [
    "No missing values are there in the dataframe."
   ]
  },
  {
   "cell_type": "code",
   "execution_count": null,
   "id": "minus-rover",
   "metadata": {
    "execution": {
     "iopub.execute_input": "2021-07-11T08:50:24.178479Z",
     "iopub.status.busy": "2021-07-11T08:50:24.177764Z",
     "iopub.status.idle": "2021-07-11T08:50:24.212195Z",
     "shell.execute_reply": "2021-07-11T08:50:24.211517Z",
     "shell.execute_reply.started": "2021-07-11T08:20:02.775076Z"
    },
    "papermill": {
     "duration": 0.079993,
     "end_time": "2021-07-11T08:50:24.212336",
     "exception": false,
     "start_time": "2021-07-11T08:50:24.132343",
     "status": "completed"
    },
    "tags": []
   },
   "outputs": [],
   "source": [
    "#Statistical insights into the data\n",
    "\n",
    "stock_df.describe().T"
   ]
  },
  {
   "cell_type": "code",
   "execution_count": null,
   "id": "incorporate-departure",
   "metadata": {
    "execution": {
     "iopub.execute_input": "2021-07-11T08:50:24.295300Z",
     "iopub.status.busy": "2021-07-11T08:50:24.293231Z",
     "iopub.status.idle": "2021-07-11T08:50:24.704828Z",
     "shell.execute_reply": "2021-07-11T08:50:24.705322Z",
     "shell.execute_reply.started": "2021-07-11T08:20:13.541187Z"
    },
    "papermill": {
     "duration": 0.455988,
     "end_time": "2021-07-11T08:50:24.705491",
     "exception": false,
     "start_time": "2021-07-11T08:50:24.249503",
     "status": "completed"
    },
    "tags": []
   },
   "outputs": [],
   "source": [
    "plt.figure(figsize=(12,6))\n",
    "sns.heatmap(stock_df.corr(),annot=True,cmap='viridis')"
   ]
  },
  {
   "cell_type": "markdown",
   "id": "widespread-placement",
   "metadata": {
    "papermill": {
     "duration": 0.03883,
     "end_time": "2021-07-11T08:50:24.783161",
     "exception": false,
     "start_time": "2021-07-11T08:50:24.744331",
     "status": "completed"
    },
    "tags": []
   },
   "source": [
    "The data contains the stockprices from **13/02/2002 to 28/01/2021**"
   ]
  },
  {
   "cell_type": "code",
   "execution_count": null,
   "id": "instant-designation",
   "metadata": {
    "execution": {
     "iopub.execute_input": "2021-07-11T08:50:25.040993Z",
     "iopub.status.busy": "2021-07-11T08:50:25.039930Z",
     "iopub.status.idle": "2021-07-11T08:50:25.418052Z",
     "shell.execute_reply": "2021-07-11T08:50:25.418518Z",
     "shell.execute_reply.started": "2021-07-11T08:22:59.352354Z"
    },
    "papermill": {
     "duration": 0.4412,
     "end_time": "2021-07-11T08:50:25.418758",
     "exception": false,
     "start_time": "2021-07-11T08:50:24.977558",
     "status": "completed"
    },
    "tags": []
   },
   "outputs": [],
   "source": [
    "sns.set_style('darkgrid')\n",
    "plt.figure(figsize=(12,4))\n",
    "sns.distplot(stock_df['open_price'],color='Indianred')\n",
    "plt.title('Distribution of open prices of the stock',fontweight='bold',fontsize=14)\n",
    "plt.xlabel('Open_price',fontsize=12)\n",
    "\n",
    "print('Maximum open price of stock ever obtained:',stock_df['open_price'].max())\n",
    "print('Minimum open price of stock ever obtained:',stock_df['open_price'].min())"
   ]
  },
  {
   "cell_type": "code",
   "execution_count": null,
   "id": "acting-canberra",
   "metadata": {
    "execution": {
     "iopub.execute_input": "2021-07-11T08:50:25.671285Z",
     "iopub.status.busy": "2021-07-11T08:50:25.670558Z",
     "iopub.status.idle": "2021-07-11T08:50:25.688515Z",
     "shell.execute_reply": "2021-07-11T08:50:25.687982Z",
     "shell.execute_reply.started": "2021-07-11T08:23:12.271507Z"
    },
    "papermill": {
     "duration": 0.067478,
     "end_time": "2021-07-11T08:50:25.688682",
     "exception": false,
     "start_time": "2021-07-11T08:50:25.621204",
     "status": "completed"
    },
    "tags": []
   },
   "outputs": [],
   "source": [
    "#Converting string object to datetime for analysis\n",
    "\n",
    "stock_df['date']=pd.to_datetime(stock_df['date'])\n",
    "stock_df['year']=stock_df['date'].dt.year\n",
    "stock_df['month']=stock_df['date'].dt.month\n",
    "stock_df.head(2)"
   ]
  },
  {
   "cell_type": "code",
   "execution_count": null,
   "id": "incorporated-overview",
   "metadata": {
    "execution": {
     "iopub.execute_input": "2021-07-11T08:50:25.777171Z",
     "iopub.status.busy": "2021-07-11T08:50:25.776478Z",
     "iopub.status.idle": "2021-07-11T08:50:27.001977Z",
     "shell.execute_reply": "2021-07-11T08:50:27.002493Z",
     "shell.execute_reply.started": "2021-07-11T08:24:02.771338Z"
    },
    "papermill": {
     "duration": 1.273314,
     "end_time": "2021-07-11T08:50:27.002712",
     "exception": false,
     "start_time": "2021-07-11T08:50:25.729398",
     "status": "completed"
    },
    "tags": []
   },
   "outputs": [],
   "source": [
    "fig=px.line(x=stock_df['year'],y=stock_df['open_price'])\n",
    "fig.update_layout(template='plotly_dark',title='Year wise open price distribution',xaxis_title='year',yaxis_title='open_price')"
   ]
  },
  {
   "cell_type": "markdown",
   "id": "seven-explanation",
   "metadata": {
    "papermill": {
     "duration": 0.045408,
     "end_time": "2021-07-11T08:50:27.094791",
     "exception": false,
     "start_time": "2021-07-11T08:50:27.049383",
     "status": "completed"
    },
    "tags": []
   },
   "source": [
    "From the plot, it can seen that there was a sudden **spike in the stock prices is seen in 2021.**"
   ]
  },
  {
   "cell_type": "code",
   "execution_count": null,
   "id": "sacred-alignment",
   "metadata": {
    "execution": {
     "iopub.execute_input": "2021-07-11T08:50:27.192550Z",
     "iopub.status.busy": "2021-07-11T08:50:27.191908Z",
     "iopub.status.idle": "2021-07-11T08:50:27.960257Z",
     "shell.execute_reply": "2021-07-11T08:50:27.960793Z",
     "shell.execute_reply.started": "2021-07-11T08:24:21.673831Z"
    },
    "papermill": {
     "duration": 0.821381,
     "end_time": "2021-07-11T08:50:27.961017",
     "exception": false,
     "start_time": "2021-07-11T08:50:27.139636",
     "status": "completed"
    },
    "tags": []
   },
   "outputs": [],
   "source": [
    "#Getting the dates on which the maximum and the minimum open price values of the stocks were observed.\n",
    "\n",
    "for i in stock_df['open_price'].index:\n",
    "    if (stock_df['open_price'][i]==stock_df['open_price'].max()):\n",
    "        print('The maximum stock price of Gamestop were observed on: ', stock_df['date'][i])\n",
    "    elif (stock_df['open_price'][i]==stock_df['open_price'].min()):\n",
    "        print('The minimum stock price of Gamestop were observed on: ', stock_df['date'][i])\n",
    "    else:\n",
    "        pass"
   ]
  },
  {
   "cell_type": "code",
   "execution_count": null,
   "id": "optimum-piece",
   "metadata": {
    "execution": {
     "iopub.execute_input": "2021-07-11T08:50:28.275093Z",
     "iopub.status.busy": "2021-07-11T08:50:28.255707Z",
     "iopub.status.idle": "2021-07-11T08:50:29.237958Z",
     "shell.execute_reply": "2021-07-11T08:50:29.238460Z",
     "shell.execute_reply.started": "2021-07-11T08:25:06.016672Z"
    },
    "papermill": {
     "duration": 1.051092,
     "end_time": "2021-07-11T08:50:29.238635",
     "exception": false,
     "start_time": "2021-07-11T08:50:28.187543",
     "status": "completed"
    },
    "tags": []
   },
   "outputs": [],
   "source": [
    "fig,axes=plt.subplots(1,3,figsize=(24,6))\n",
    "\n",
    "#Close price\n",
    "plt.subplot(1,3,1)\n",
    "plt.title('Close price distribution',fontweight='bold',fontsize=20)\n",
    "plt.xlabel('close_price',fontweight='bold',fontsize=12)\n",
    "sns.distplot(stock_df['close_price'],color='g')\n",
    "\n",
    "print('Maximum close price of stock ever obtained:',stock_df['close_price'].max())\n",
    "print('Minimum close price of stock ever obtained:',stock_df['close_price'].min())\n",
    "print('\\n')\n",
    "\n",
    "\n",
    "#High price\n",
    "plt.subplot(1,3,2)\n",
    "plt.title('High price distribution',fontweight='bold',fontsize=20)\n",
    "plt.xlabel('high_price',fontweight='bold',fontsize=12)\n",
    "sns.distplot(stock_df['high_price'],color='c')\n",
    "\n",
    "print('Maximum high price of stock ever obtained:',stock_df['high_price'].max())\n",
    "print('Minimum high price of stock ever obtained:',stock_df['high_price'].min())\n",
    "print('\\n')\n",
    "\n",
    "\n",
    "#Low price\n",
    "plt.subplot(1,3,3)\n",
    "plt.title('Low price distribution',fontweight='bold',fontsize=20)\n",
    "plt.xlabel('low_price',fontweight='bold',fontsize=12)\n",
    "sns.distplot(stock_df['low_price'],color='black')\n",
    "\n",
    "print('Maximum low price of stock ever obtained:',stock_df['low_price'].max())\n",
    "print('Minimum low price of stock ever obtained:',stock_df['low_price'].min())"
   ]
  },
  {
   "cell_type": "code",
   "execution_count": null,
   "id": "eligible-cooling",
   "metadata": {
    "execution": {
     "iopub.execute_input": "2021-07-11T08:50:29.354074Z",
     "iopub.status.busy": "2021-07-11T08:50:29.348698Z",
     "iopub.status.idle": "2021-07-11T08:50:29.445821Z",
     "shell.execute_reply": "2021-07-11T08:50:29.446314Z",
     "shell.execute_reply.started": "2021-07-11T08:25:12.822667Z"
    },
    "papermill": {
     "duration": 0.160313,
     "end_time": "2021-07-11T08:50:29.446481",
     "exception": false,
     "start_time": "2021-07-11T08:50:29.286168",
     "status": "completed"
    },
    "tags": []
   },
   "outputs": [],
   "source": [
    "fig=make_subplots(rows=1,cols=3)\n",
    "\n",
    "#Close price\n",
    "fig.add_trace(go.Scatter(x=stock_df['year'],y=stock_df['close_price'],mode='markers',name='close_price'),row=1,col=1)\n",
    "\n",
    "\n",
    "#High price\n",
    "fig.add_trace(go.Scatter(x=stock_df['year'],y=stock_df['high_price'],mode='markers',name='high_price'),row=1,col=2)\n",
    "\n",
    "\n",
    "#Low price\n",
    "fig.add_trace(go.Scatter(x=stock_df['year'],y=stock_df['low_price'],mode='markers',name='low_price'),row=1,col=3)\n",
    "\n",
    "fig.update_layout(template='plotly_dark',title='Year wise distribution',xaxis_title='year',yaxis_title='price')"
   ]
  },
  {
   "cell_type": "code",
   "execution_count": null,
   "id": "capable-double",
   "metadata": {
    "execution": {
     "iopub.execute_input": "2021-07-11T08:50:29.571858Z",
     "iopub.status.busy": "2021-07-11T08:50:29.570712Z",
     "iopub.status.idle": "2021-07-11T08:50:31.935012Z",
     "shell.execute_reply": "2021-07-11T08:50:31.934322Z",
     "shell.execute_reply.started": "2021-07-11T08:25:23.645862Z"
    },
    "papermill": {
     "duration": 2.431298,
     "end_time": "2021-07-11T08:50:31.935169",
     "exception": false,
     "start_time": "2021-07-11T08:50:29.503871",
     "status": "completed"
    },
    "tags": []
   },
   "outputs": [],
   "source": [
    "#Getting the dates on which the maximum and the minimum close price values of the stocks were observed.\n",
    "for i in stock_df['close_price'].index:\n",
    "    if (stock_df['close_price'][i]==stock_df['close_price'].max()):\n",
    "        print('The maximum close price of Gamestop were observed on: ', stock_df['date'][i])\n",
    "    elif (stock_df['close_price'][i]==stock_df['close_price'].min()):\n",
    "        print('The minimum close price of Gamestop were observed on: ', stock_df['date'][i])\n",
    "    else:\n",
    "        pass\n",
    "print('\\n')\n",
    "\n",
    "#Getting the dates on which the maximum and the minimum high price values of the stocks were observed.\n",
    "for i in stock_df['high_price'].index:\n",
    "    if (stock_df['high_price'][i]==stock_df['high_price'].max()):\n",
    "        print('The maximum high price of Gamestop were observed on: ', stock_df['date'][i])\n",
    "    elif (stock_df['high_price'][i]==stock_df['high_price'].min()):\n",
    "        print('The minimum high price of Gamestop were observed on: ', stock_df['date'][i])\n",
    "    else:\n",
    "        pass\n",
    "print('\\n')\n",
    "\n",
    "#Getting the dates on which the maximum and the minimum low price values of the stocks were observed.\n",
    "for i in stock_df['low_price'].index:\n",
    "    if (stock_df['low_price'][i]==stock_df['low_price'].max()):\n",
    "        print('The maximum low price of Gamestop were observed on: ', stock_df['date'][i])\n",
    "    elif (stock_df['low_price'][i]==stock_df['low_price'].min()):\n",
    "        print('The minimum low price of Gamestop were observed on: ', stock_df['date'][i])\n",
    "    else:\n",
    "        pass"
   ]
  },
  {
   "cell_type": "code",
   "execution_count": null,
   "id": "vocational-appliance",
   "metadata": {
    "execution": {
     "iopub.execute_input": "2021-07-11T08:50:32.406141Z",
     "iopub.status.busy": "2021-07-11T08:50:32.398352Z",
     "iopub.status.idle": "2021-07-11T08:50:33.252134Z",
     "shell.execute_reply": "2021-07-11T08:50:33.252709Z",
     "shell.execute_reply.started": "2021-07-11T08:25:32.302835Z"
    },
    "papermill": {
     "duration": 0.919578,
     "end_time": "2021-07-11T08:50:33.252917",
     "exception": false,
     "start_time": "2021-07-11T08:50:32.333339",
     "status": "completed"
    },
    "tags": []
   },
   "outputs": [],
   "source": [
    "fig=make_subplots(rows=1,cols=2)\n",
    "\n",
    "#Adjusted close price\n",
    "fig.add_trace(go.Scatter(x=stock_df['year'],y=stock_df['adjclose_price'],mode='markers',name='adjclose_price'),row=1,col=1)\n",
    "\n",
    "#Close price\n",
    "fig.add_trace(go.Scatter(x=stock_df['year'],y=stock_df['adjclose_price'],mode='markers',name='close_price'),row=1,col=2)\n",
    "\n",
    "fig.update_layout(template='plotly_dark',title='Year wise distribution',xaxis_title='year',yaxis_title='price')\n",
    "fig.show()\n",
    "\n",
    "print('Maximum adjusted close price of stock ever obtained:',stock_df['adjclose_price'].max())\n",
    "print('Minimum adjusted close price of stock ever obtained:',stock_df['adjclose_price'].min())\n",
    "\n",
    "print('\\n')\n",
    "\n",
    "for i in stock_df['adjclose_price'].index:\n",
    "    if (stock_df['adjclose_price'][i]==stock_df['adjclose_price'].max()):\n",
    "        print('The maximum adjusted close price ever obtained was on: ', stock_df['date'][i])\n",
    "    elif (stock_df['adjclose_price'][i]==stock_df['adjclose_price'].min()):\n",
    "        print('The minimum adjusted close price ever obtained was on: ', stock_df['date'][i])\n",
    "    else:\n",
    "        pass"
   ]
  },
  {
   "cell_type": "code",
   "execution_count": null,
   "id": "ordinary-jamaica",
   "metadata": {
    "execution": {
     "iopub.execute_input": "2021-07-11T08:50:33.792668Z",
     "iopub.status.busy": "2021-07-11T08:50:33.791927Z",
     "iopub.status.idle": "2021-07-11T08:50:34.665537Z",
     "shell.execute_reply": "2021-07-11T08:50:34.666034Z",
     "shell.execute_reply.started": "2021-07-11T08:26:02.180564Z"
    },
    "papermill": {
     "duration": 0.96716,
     "end_time": "2021-07-11T08:50:34.666239",
     "exception": false,
     "start_time": "2021-07-11T08:50:33.699079",
     "status": "completed"
    },
    "tags": []
   },
   "outputs": [],
   "source": [
    "fig=px.line(x=stock_df['year'],y=stock_df['volume'])\n",
    "fig.update_layout(template='plotly_dark',title='Year wise volume traded',xaxis_title='year',yaxis_title='volume')\n",
    "fig.show()\n",
    "\n",
    "print('Maximum low price of stock ever obtained:',stock_df['low_price'].max())\n",
    "print('Minimum low price of stock ever obtained:',stock_df['low_price'].min())\n",
    "\n",
    "print('\\n')\n",
    "\n",
    "for i in stock_df['volume'].index:\n",
    "    if (stock_df['volume'][i]==stock_df['volume'].max()):\n",
    "        print('The maximum volume ever traded was on: ', stock_df['date'][i])\n",
    "    elif (stock_df['volume'][i]==stock_df['volume'].min()):\n",
    "        print('The minimum volume ever traded was on: ', stock_df['date'][i])\n",
    "    else:\n",
    "        pass"
   ]
  },
  {
   "cell_type": "code",
   "execution_count": null,
   "id": "continental-cookbook",
   "metadata": {
    "execution": {
     "iopub.execute_input": "2021-07-11T08:50:35.100411Z",
     "iopub.status.busy": "2021-07-11T08:50:35.098033Z",
     "iopub.status.idle": "2021-07-11T08:50:35.200168Z",
     "shell.execute_reply": "2021-07-11T08:50:35.200693Z",
     "shell.execute_reply.started": "2021-07-11T08:26:20.896417Z"
    },
    "papermill": {
     "duration": 0.196486,
     "end_time": "2021-07-11T08:50:35.200892",
     "exception": false,
     "start_time": "2021-07-11T08:50:35.004406",
     "status": "completed"
    },
    "tags": []
   },
   "outputs": [],
   "source": [
    "fig=px.line(x=stock_df['year'],y=stock_df['volume']*stock_df['open_price'])\n",
    "fig.update_layout(template='plotly_dark',title='Year wise volume traded',xaxis_title='year',yaxis_title='amount')\n",
    "fig.show()"
   ]
  },
  {
   "cell_type": "code",
   "execution_count": null,
   "id": "pharmaceutical-drama",
   "metadata": {
    "execution": {
     "iopub.execute_input": "2021-07-11T08:50:35.492043Z",
     "iopub.status.busy": "2021-07-11T08:50:35.491193Z",
     "iopub.status.idle": "2021-07-11T08:50:41.922111Z",
     "shell.execute_reply": "2021-07-11T08:50:41.922612Z",
     "shell.execute_reply.started": "2021-07-11T08:26:30.480367Z"
    },
    "papermill": {
     "duration": 6.508254,
     "end_time": "2021-07-11T08:50:41.922860",
     "exception": false,
     "start_time": "2021-07-11T08:50:35.414606",
     "status": "completed"
    },
    "tags": []
   },
   "outputs": [],
   "source": [
    "#Importing deep learning libraries\n",
    "from tensorflow.keras.models import Sequential\n",
    "from tensorflow.keras.layers import Dense, LSTM, Dropout\n",
    "from sklearn.preprocessing import MinMaxScaler\n",
    "import math"
   ]
  },
  {
   "cell_type": "code",
   "execution_count": null,
   "id": "concrete-cross",
   "metadata": {
    "execution": {
     "iopub.execute_input": "2021-07-11T08:50:42.072871Z",
     "iopub.status.busy": "2021-07-11T08:50:42.071802Z",
     "iopub.status.idle": "2021-07-11T08:50:42.101770Z",
     "shell.execute_reply": "2021-07-11T08:50:42.102236Z",
     "shell.execute_reply.started": "2021-07-11T08:26:36.419299Z"
    },
    "papermill": {
     "duration": 0.105992,
     "end_time": "2021-07-11T08:50:42.102436",
     "exception": false,
     "start_time": "2021-07-11T08:50:41.996444",
     "status": "completed"
    },
    "tags": []
   },
   "outputs": [],
   "source": [
    "#PREPARING THE DATA\n",
    "\n",
    "stock_df.sort_index(ascending=False,axis=0,inplace=True)\n",
    "df=stock_df[['date','close_price']]\n",
    "df['date'] = pd.to_datetime(df['date'])\n",
    "df.set_index('date',inplace=True)\n",
    "df.head()"
   ]
  },
  {
   "cell_type": "code",
   "execution_count": null,
   "id": "inside-leather",
   "metadata": {
    "execution": {
     "iopub.execute_input": "2021-07-11T08:50:42.251134Z",
     "iopub.status.busy": "2021-07-11T08:50:42.250308Z",
     "iopub.status.idle": "2021-07-11T08:50:42.258507Z",
     "shell.execute_reply": "2021-07-11T08:50:42.257926Z",
     "shell.execute_reply.started": "2021-07-11T08:26:36.451088Z"
    },
    "papermill": {
     "duration": 0.083176,
     "end_time": "2021-07-11T08:50:42.258678",
     "exception": false,
     "start_time": "2021-07-11T08:50:42.175502",
     "status": "completed"
    },
    "tags": []
   },
   "outputs": [],
   "source": [
    "#To array format\n",
    "df_val=df.values \n",
    "df_val"
   ]
  },
  {
   "cell_type": "code",
   "execution_count": null,
   "id": "serial-option",
   "metadata": {
    "execution": {
     "iopub.execute_input": "2021-07-11T08:50:42.408566Z",
     "iopub.status.busy": "2021-07-11T08:50:42.407892Z",
     "iopub.status.idle": "2021-07-11T08:50:42.411770Z",
     "shell.execute_reply": "2021-07-11T08:50:42.412319Z",
     "shell.execute_reply.started": "2021-07-11T08:26:36.458398Z"
    },
    "papermill": {
     "duration": 0.080735,
     "end_time": "2021-07-11T08:50:42.412519",
     "exception": false,
     "start_time": "2021-07-11T08:50:42.331784",
     "status": "completed"
    },
    "tags": []
   },
   "outputs": [],
   "source": [
    "#Splitting the dataset to train and test (80% train and 20% test data)\n",
    "\n",
    "train=df_val[:3818]   \n",
    "test=df_val[3818:]"
   ]
  },
  {
   "cell_type": "code",
   "execution_count": null,
   "id": "broad-mainland",
   "metadata": {
    "execution": {
     "iopub.execute_input": "2021-07-11T08:50:42.562968Z",
     "iopub.status.busy": "2021-07-11T08:50:42.561947Z",
     "iopub.status.idle": "2021-07-11T08:50:42.566389Z",
     "shell.execute_reply": "2021-07-11T08:50:42.566878Z",
     "shell.execute_reply.started": "2021-07-11T08:26:36.468677Z"
    },
    "papermill": {
     "duration": 0.081904,
     "end_time": "2021-07-11T08:50:42.567089",
     "exception": false,
     "start_time": "2021-07-11T08:50:42.485185",
     "status": "completed"
    },
    "tags": []
   },
   "outputs": [],
   "source": [
    "#Scaling the features to be valued between 0 & 1. \n",
    "#Scaling ensures optimal performance of the model.\n",
    "\n",
    "scaler = MinMaxScaler(feature_range=(0, 1))\n",
    "scaled_data = scaler.fit_transform(df_val)"
   ]
  },
  {
   "cell_type": "code",
   "execution_count": null,
   "id": "sophisticated-dinner",
   "metadata": {
    "execution": {
     "iopub.execute_input": "2021-07-11T08:50:42.717150Z",
     "iopub.status.busy": "2021-07-11T08:50:42.716399Z",
     "iopub.status.idle": "2021-07-11T08:50:42.733121Z",
     "shell.execute_reply": "2021-07-11T08:50:42.733723Z",
     "shell.execute_reply.started": "2021-07-11T08:26:36.480466Z"
    },
    "papermill": {
     "duration": 0.092788,
     "end_time": "2021-07-11T08:50:42.733959",
     "exception": false,
     "start_time": "2021-07-11T08:50:42.641171",
     "status": "completed"
    },
    "tags": []
   },
   "outputs": [],
   "source": [
    "#Creting x_train and y_train for 60 timesteps\n",
    "x_train, y_train = [], []\n",
    "for i in range(60,len(train)):\n",
    "    x_train.append(scaled_data[i-60:i,0])\n",
    "    y_train.append(scaled_data[i,0])\n",
    "x_train, y_train = np.array(x_train), np.array(y_train)\n",
    "\n",
    "#Converting to 3-D array because LSTM model requires 3-D input.\n",
    "x_train = np.reshape(x_train, (x_train.shape[0],x_train.shape[1],1))"
   ]
  },
  {
   "cell_type": "code",
   "execution_count": null,
   "id": "severe-rainbow",
   "metadata": {
    "execution": {
     "iopub.execute_input": "2021-07-11T08:50:42.885479Z",
     "iopub.status.busy": "2021-07-11T08:50:42.884790Z",
     "iopub.status.idle": "2021-07-11T09:11:59.508299Z",
     "shell.execute_reply": "2021-07-11T09:11:59.507735Z",
     "shell.execute_reply.started": "2021-07-11T08:26:48.425639Z"
    },
    "papermill": {
     "duration": 1276.701093,
     "end_time": "2021-07-11T09:11:59.508457",
     "exception": false,
     "start_time": "2021-07-11T08:50:42.807364",
     "status": "completed"
    },
    "tags": []
   },
   "outputs": [],
   "source": [
    "# Build the LSTM model\n",
    "model = Sequential()\n",
    "\n",
    "model.add(LSTM(units = 50, return_sequences = True, input_shape = (x_train.shape[1], 1)))\n",
    "model.add(Dropout(0.2))\n",
    "\n",
    "model.add(LSTM(units = 50, return_sequences = True))\n",
    "model.add(Dropout(0.2))\n",
    "\n",
    "model.add(LSTM(units = 50))\n",
    "model.add(Dropout(0.2))\n",
    "\n",
    "model.add(Dense(units = 1))\n",
    "\n",
    "\n",
    "#Compiling \n",
    "model.compile(optimizer = 'adam', loss = 'mean_squared_error')\n",
    "\n",
    "#Fitting\n",
    "model.fit(x_train, y_train, epochs = 125, batch_size = 32)"
   ]
  },
  {
   "cell_type": "code",
   "execution_count": null,
   "id": "progressive-basis",
   "metadata": {
    "execution": {
     "iopub.execute_input": "2021-07-11T09:12:08.809066Z",
     "iopub.status.busy": "2021-07-11T09:12:08.808393Z",
     "iopub.status.idle": "2021-07-11T09:12:08.810433Z",
     "shell.execute_reply": "2021-07-11T09:12:08.810894Z",
     "shell.execute_reply.started": "2021-07-11T08:48:17.385471Z"
    },
    "papermill": {
     "duration": 4.641966,
     "end_time": "2021-07-11T09:12:08.811065",
     "exception": false,
     "start_time": "2021-07-11T09:12:04.169099",
     "status": "completed"
    },
    "tags": []
   },
   "outputs": [],
   "source": [
    "inputs = df_val[len(df_val) - len(test) - 60:]\n",
    "inputs = inputs.reshape(-1,1)\n",
    "inputs  = scaler.transform(inputs)"
   ]
  },
  {
   "cell_type": "code",
   "execution_count": null,
   "id": "third-experiment",
   "metadata": {
    "execution": {
     "iopub.execute_input": "2021-07-11T09:12:18.127731Z",
     "iopub.status.busy": "2021-07-11T09:12:18.127057Z",
     "iopub.status.idle": "2021-07-11T09:12:18.133396Z",
     "shell.execute_reply": "2021-07-11T09:12:18.133877Z",
     "shell.execute_reply.started": "2021-07-11T08:48:21.720045Z"
    },
    "papermill": {
     "duration": 4.677149,
     "end_time": "2021-07-11T09:12:18.134056",
     "exception": false,
     "start_time": "2021-07-11T09:12:13.456907",
     "status": "completed"
    },
    "tags": []
   },
   "outputs": [],
   "source": [
    "#Test data\n",
    "X_test = []\n",
    "for i in range(60,inputs.shape[0]):\n",
    "    X_test.append(inputs[i-60:i,0])\n",
    "X_test = np.array(X_test)"
   ]
  },
  {
   "cell_type": "code",
   "execution_count": null,
   "id": "minus-cattle",
   "metadata": {
    "execution": {
     "iopub.execute_input": "2021-07-11T09:12:27.448547Z",
     "iopub.status.busy": "2021-07-11T09:12:27.447925Z",
     "iopub.status.idle": "2021-07-11T09:12:29.574435Z",
     "shell.execute_reply": "2021-07-11T09:12:29.574948Z",
     "shell.execute_reply.started": "2021-07-11T08:49:32.971218Z"
    },
    "papermill": {
     "duration": 6.788962,
     "end_time": "2021-07-11T09:12:29.575133",
     "exception": false,
     "start_time": "2021-07-11T09:12:22.786171",
     "status": "completed"
    },
    "tags": []
   },
   "outputs": [],
   "source": [
    "X_test = np.reshape(X_test, (X_test.shape[0],X_test.shape[1],1))\n",
    "predictions = model.predict(X_test)\n",
    "\n",
    "#Undo scaling\n",
    "predictions = scaler.inverse_transform(predictions)"
   ]
  },
  {
   "cell_type": "code",
   "execution_count": null,
   "id": "assured-aerospace",
   "metadata": {
    "execution": {
     "iopub.execute_input": "2021-07-11T09:12:38.890022Z",
     "iopub.status.busy": "2021-07-11T09:12:38.889355Z",
     "iopub.status.idle": "2021-07-11T09:12:38.893579Z",
     "shell.execute_reply": "2021-07-11T09:12:38.893089Z",
     "shell.execute_reply.started": "2021-07-11T08:49:34.955273Z"
    },
    "papermill": {
     "duration": 4.586225,
     "end_time": "2021-07-11T09:12:38.893741",
     "exception": false,
     "start_time": "2021-07-11T09:12:34.307516",
     "status": "completed"
    },
    "tags": []
   },
   "outputs": [],
   "source": [
    "#Root mean squared error\n",
    "rmse=np.sqrt(np.mean(np.power((predictions),2)))\n",
    "rmse"
   ]
  },
  {
   "cell_type": "code",
   "execution_count": null,
   "id": "final-class",
   "metadata": {
    "execution": {
     "iopub.execute_input": "2021-07-11T09:12:48.275805Z",
     "iopub.status.busy": "2021-07-11T09:12:48.275096Z",
     "iopub.status.idle": "2021-07-11T09:12:48.601089Z",
     "shell.execute_reply": "2021-07-11T09:12:48.601585Z",
     "shell.execute_reply.started": "2021-07-11T08:49:34.964005Z"
    },
    "papermill": {
     "duration": 5.033944,
     "end_time": "2021-07-11T09:12:48.601782",
     "exception": false,
     "start_time": "2021-07-11T09:12:43.567838",
     "status": "completed"
    },
    "tags": []
   },
   "outputs": [],
   "source": [
    "#Plotting all the values\n",
    "train = df[:3818]\n",
    "test = df[3818:]\n",
    "test['Predictions'] = predictions\n",
    "sns.set_style('darkgrid')\n",
    "plt.figure(figsize=(14,6))\n",
    "plt.plot(train['close_price'],color='r')\n",
    "plt.plot(test[['close_price','Predictions']])"
   ]
  }
 ],
 "metadata": {
  "kernelspec": {
   "display_name": "Python 3 (ipykernel)",
   "language": "python",
   "name": "python3"
  },
  "language_info": {
   "codemirror_mode": {
    "name": "ipython",
    "version": 3
   },
   "file_extension": ".py",
   "mimetype": "text/x-python",
   "name": "python",
   "nbconvert_exporter": "python",
   "pygments_lexer": "ipython3",
   "version": "3.11.5"
  },
  "papermill": {
   "default_parameters": {},
   "duration": 1393.248761,
   "end_time": "2021-07-11T09:13:23.723624",
   "environment_variables": {},
   "exception": null,
   "input_path": "__notebook__.ipynb",
   "output_path": "__notebook__.ipynb",
   "parameters": {},
   "start_time": "2021-07-11T08:50:10.474863",
   "version": "2.3.3"
  }
 },
 "nbformat": 4,
 "nbformat_minor": 5
}
