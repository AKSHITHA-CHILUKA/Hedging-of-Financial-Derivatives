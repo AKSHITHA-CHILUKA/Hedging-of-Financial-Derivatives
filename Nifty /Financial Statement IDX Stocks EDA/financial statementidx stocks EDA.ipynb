{
 "cells": [
  {
   "cell_type": "markdown",
   "id": "8dd36587",
   "metadata": {
    "papermill": {
     "duration": 0.008067,
     "end_time": "2022-12-05T06:33:36.180864",
     "exception": false,
     "start_time": "2022-12-05T06:33:36.172797",
     "status": "completed"
    },
    "tags": []
   },
   "source": [
    "# Financial Statement IDX Stocks\n"
   ]
  },
  {
   "cell_type": "code",
   "execution_count": 2,
   "id": "8879e148",
   "metadata": {
    "execution": {
     "iopub.execute_input": "2022-12-05T06:33:36.242640Z",
     "iopub.status.busy": "2022-12-05T06:33:36.242269Z",
     "iopub.status.idle": "2022-12-05T06:33:37.978485Z",
     "shell.execute_reply": "2022-12-05T06:33:37.976202Z"
    },
    "papermill": {
     "duration": 1.74826,
     "end_time": "2022-12-05T06:33:37.981914",
     "exception": false,
     "start_time": "2022-12-05T06:33:36.233654",
     "status": "completed"
    },
    "tags": []
   },
   "outputs": [],
   "source": [
    "\n",
    "import os\n",
    "import gc\n",
    "import re\n",
    "import tqdm\n",
    "import copy\n",
    "%matplotlib inline\n",
    "import numpy as np\n",
    "import pandas as pd\n",
    "from PIL import Image\n",
    "import seaborn as sns\n",
    "import matplotlib.pyplot as plt\n",
    "from scipy.stats import pearsonr\n",
    "import matplotlib.image as mpimg\n",
    "from IPython.display import display_html\n",
    "from dask.distributed import Client, wait\n",
    "import warnings; warnings.filterwarnings(\"ignore\")\n",
    "plt.style.use('fivethirtyeight')\n",
    "sns.set_context(\"poster\", font_scale = 0.6,rc = {\"grid.linewidth\": 0.4})\n",
    "sns.set_style({'font.family':'serif'})\n"
   ]
  },
  {
   "cell_type": "code",
   "execution_count": 3,
   "id": "657265b4",
   "metadata": {
    "execution": {
     "iopub.execute_input": "2022-12-05T06:33:37.999732Z",
     "iopub.status.busy": "2022-12-05T06:33:37.999351Z",
     "iopub.status.idle": "2022-12-05T06:33:38.100134Z",
     "shell.execute_reply": "2022-12-05T06:33:38.099247Z"
    },
    "papermill": {
     "duration": 0.112542,
     "end_time": "2022-12-05T06:33:38.102992",
     "exception": false,
     "start_time": "2022-12-05T06:33:37.990450",
     "status": "completed"
    },
    "tags": []
   },
   "outputs": [
    {
     "data": {
      "image/png": "[encoded data removed]",
      "text/plain": [
       "<Figure size 360x72 with 1 Axes>"
      ]
     },
     "metadata": {},
     "output_type": "display_data"
    }
   ],
   "source": [
    "\n",
    "# Color Palette\n",
    "custom_colors = ['#ff7204', '#f8ac65', '#f9d99f', '#ffb500', '#36c9dd']\n",
    "sns.palplot(sns.color_palette(custom_colors))\n",
    "\n",
    "# Set Style\n",
    "sns.set_style(\"whitegrid\")\n",
    "sns.despine(left=True, bottom=True)\n",
    "\n",
    "# Set tick size\n",
    "plt.rc('xtick',labelsize=12)\n",
    "plt.rc('ytick',labelsize=12)\n"
   ]
  },
  {
   "cell_type": "markdown",
   "id": "8767d933",
   "metadata": {
    "papermill": {
     "duration": 0.009788,
     "end_time": "2022-12-05T06:33:38.123461",
     "exception": false,
     "start_time": "2022-12-05T06:33:38.113673",
     "status": "completed"
    },
    "tags": []
   },
   "source": [
    "# Utility Functions"
   ]
  },
  {
   "cell_type": "code",
   "execution_count": 4,
   "id": "24c73d93",
   "metadata": {
    "execution": {
     "iopub.execute_input": "2022-12-05T06:33:38.152180Z",
     "iopub.status.busy": "2022-12-05T06:33:38.151484Z",
     "iopub.status.idle": "2022-12-05T06:33:38.158358Z",
     "shell.execute_reply": "2022-12-05T06:33:38.157648Z"
    },
    "papermill": {
     "duration": 0.021035,
     "end_time": "2022-12-05T06:33:38.160992",
     "exception": false,
     "start_time": "2022-12-05T06:33:38.139957",
     "status": "completed"
    },
    "tags": []
   },
   "outputs": [],
   "source": [
    "\n",
    "def barplot_features(df, feature, title, palette = custom_colors[2:]):\n",
    "    '''Takes the numerical columns and plots the barplot.'''\n",
    "\n",
    "    # We need to extract both the name of the category and the no. of appearences\n",
    "    index = df[feature].value_counts().reset_index()[\"index\"].values\n",
    "    values = df[feature].value_counts().reset_index()[feature].values \n",
    "\n",
    "    plt.figure(figsize = (18, 3))\n",
    "    sns.barplot(x = index, y = values, palette = palette)\n",
    "    plt.title(title, fontsize=15)\n",
    "    plt.show();\n",
    "\n",
    "    del index, values\n",
    "    gc.collect()\n"
   ]
  },
  {
   "cell_type": "code",
   "execution_count": 5,
   "id": "b077d974",
   "metadata": {
    "execution": {
     "iopub.execute_input": "2022-12-05T06:33:38.190584Z",
     "iopub.status.busy": "2022-12-05T06:33:38.189632Z",
     "iopub.status.idle": "2022-12-05T06:33:38.198230Z",
     "shell.execute_reply": "2022-12-05T06:33:38.197386Z"
    },
    "papermill": {
     "duration": 0.027179,
     "end_time": "2022-12-05T06:33:38.200127",
     "exception": false,
     "start_time": "2022-12-05T06:33:38.172948",
     "status": "completed"
    },
    "tags": []
   },
   "outputs": [],
   "source": [
    "\n",
    "def distplot_features(df, feature, title, color = custom_colors[4], categorical=True):\n",
    "    '''Takes a column from the dataframe and plots the distribution (after count)'''\n",
    "\n",
    "    if categorical: values = df[feature].value_counts().values\n",
    "    else: values = df[feature].values\n",
    "\n",
    "    print('Mean: {:,}'.format(np.mean(values)), \"\\n\"\n",
    "          'Median: {:,}'.format(np.median(values)), \"\\n\"\n",
    "          'Max: {:,}'.format(np.max(values)))\n",
    "\n",
    "    plt.figure(figsize = (18, 3))\n",
    "\n",
    "    if categorical: sns.distplot(values, hist=False, color = color, kde_kws = {'lw':3})\n",
    "    else:\n",
    "        # To speed up the process\n",
    "        if len(values) > 1000000: sns.distplot(values[::250000], hist=False, color = color, kde_kws = {'lw':3})\n",
    "        else: sns.distplot(values, hist=False, color = color, kde_kws = {'lw':3})\n",
    "\n",
    "    plt.title(title, fontsize=15)\n",
    "    plt.show()    \n",
    "    del values\n",
    "    gc.collect()\n"
   ]
  },
  {
   "cell_type": "code",
   "execution_count": 6,
   "id": "038dc39f",
   "metadata": {
    "execution": {
     "iopub.execute_input": "2022-12-05T06:33:38.232675Z",
     "iopub.status.busy": "2022-12-05T06:33:38.231937Z",
     "iopub.status.idle": "2022-12-05T06:33:38.622480Z",
     "shell.execute_reply": "2022-12-05T06:33:38.621510Z"
    },
    "papermill": {
     "duration": 0.401928,
     "end_time": "2022-12-05T06:33:38.624755",
     "exception": false,
     "start_time": "2022-12-05T06:33:38.222827",
     "status": "completed"
    },
    "tags": []
   },
   "outputs": [
    {
     "name": "stdout",
     "output_type": "stream",
     "text": [
      "Rows: 211,505 \n",
      "Columns: 7\n",
      "type has: 542 (0.26%) missing values.\n",
      "2018_12_31 has: 152,841 (7.2e+01%) missing values.\n",
      "2019_12_31 has: 152,870 (7.2e+01%) missing values.\n",
      "2020_12_31 has: 153,200 (7.2e+01%) missing values.\n",
      "2021_12_31 has: 155,445 (7.3e+01%) missing values.\n"
     ]
    }
   ],
   "source": [
    "df_annual = pd.read_csv('../input/financial-statement-idx-stocks/annual.csv', names = ['symbol', 'account', 'type', '2018_12_31', '2019_12_31', '2020_12_31', '2021_12_31'], header = 0)\n",
    "\n",
    "# Data Information\n",
    "print(\"Rows: {:,}\".format(len(df_annual)), \"\\n\" + \"Columns: {}\".format(len(df_annual.columns)))\n",
    "\n",
    "# Find Missing Data if any\n",
    "for column in df_annual.columns:\n",
    "    if df_annual[column].isna().sum() != 0:\n",
    "        print(\"{} has: {:,} ({:.2}%) missing values.\".format(column, df_annual[column].isna().sum(), (df_annual[column].isna().sum()/len(df_annual))*100))       \n",
    "\n",
    "# Fill in missing values with \"-1\"\n",
    "\n",
    "df_annual['type'] = df_annual['type'].fillna(-1)\n",
    "df_annual['2018_12_31'] = df_annual['2018_12_31'].fillna(-1)\n",
    "df_annual['2019_12_31'] = df_annual['2019_12_31'].fillna(-1)\n",
    "df_annual['2020_12_31'] = df_annual['2020_12_31'].fillna(-1)\n",
    "df_annual['2021_12_31'] = df_annual['2021_12_31'].fillna(-1)\n"
   ]
  },
  {
   "cell_type": "markdown",
   "id": "4488b562",
   "metadata": {
    "papermill": {
     "duration": 0.00765,
     "end_time": "2022-12-05T06:33:38.639991",
     "exception": false,
     "start_time": "2022-12-05T06:33:38.632341",
     "status": "completed"
    },
    "tags": []
   },
   "source": [
    "### Peaking into the data"
   ]
  },
  {
   "cell_type": "code",
   "execution_count": 7,
   "id": "656de42a",
   "metadata": {
    "execution": {
     "iopub.execute_input": "2022-12-05T06:33:38.656881Z",
     "iopub.status.busy": "2022-12-05T06:33:38.656372Z",
     "iopub.status.idle": "2022-12-05T06:33:38.750598Z",
     "shell.execute_reply": "2022-12-05T06:33:38.749748Z"
    },
    "papermill": {
     "duration": 0.10515,
     "end_time": "2022-12-05T06:33:38.752831",
     "exception": false,
     "start_time": "2022-12-05T06:33:38.647681",
     "status": "completed"
    },
    "tags": []
   },
   "outputs": [
    {
     "data": {
      "text/html": [
       "<style type=\"text/css\">\n",
       "#T_9e0c2_row0_col3, #T_9e0c2_row0_col4, #T_9e0c2_row0_col5, #T_9e0c2_row0_col6 {\n",
       "  background-color: #fff5eb;\n",
       "  color: #000000;\n",
       "}\n",
       "#T_9e0c2_row1_col3 {\n",
       "  background-color: #e15407;\n",
       "  color: #f1f1f1;\n",
       "}\n",
       "#T_9e0c2_row1_col4 {\n",
       "  background-color: #e65a0b;\n",
       "  color: #f1f1f1;\n",
       "}\n",
       "#T_9e0c2_row1_col5 {\n",
       "  background-color: #e85d0c;\n",
       "  color: #f1f1f1;\n",
       "}\n",
       "#T_9e0c2_row1_col6 {\n",
       "  background-color: #e75c0c;\n",
       "  color: #f1f1f1;\n",
       "}\n",
       "#T_9e0c2_row2_col3 {\n",
       "  background-color: #fee5cc;\n",
       "  color: #000000;\n",
       "}\n",
       "#T_9e0c2_row2_col4 {\n",
       "  background-color: #fdd9b5;\n",
       "  color: #000000;\n",
       "}\n",
       "#T_9e0c2_row2_col5 {\n",
       "  background-color: #fdd9b4;\n",
       "  color: #000000;\n",
       "}\n",
       "#T_9e0c2_row2_col6 {\n",
       "  background-color: #feeddc;\n",
       "  color: #000000;\n",
       "}\n",
       "#T_9e0c2_row3_col3 {\n",
       "  background-color: #a23503;\n",
       "  color: #f1f1f1;\n",
       "}\n",
       "#T_9e0c2_row3_col4 {\n",
       "  background-color: #9f3303;\n",
       "  color: #f1f1f1;\n",
       "}\n",
       "#T_9e0c2_row3_col5 {\n",
       "  background-color: #a53603;\n",
       "  color: #f1f1f1;\n",
       "}\n",
       "#T_9e0c2_row3_col6 {\n",
       "  background-color: #a93703;\n",
       "  color: #f1f1f1;\n",
       "}\n",
       "#T_9e0c2_row4_col3, #T_9e0c2_row4_col4, #T_9e0c2_row4_col5, #T_9e0c2_row4_col6 {\n",
       "  background-color: #7f2704;\n",
       "  color: #f1f1f1;\n",
       "}\n",
       "</style>\n",
       "<table id=\"T_9e0c2_\">\n",
       "  <thead>\n",
       "    <tr>\n",
       "      <th class=\"blank level0\" >&nbsp;</th>\n",
       "      <th class=\"col_heading level0 col0\" >symbol</th>\n",
       "      <th class=\"col_heading level0 col1\" >account</th>\n",
       "      <th class=\"col_heading level0 col2\" >type</th>\n",
       "      <th class=\"col_heading level0 col3\" >2018_12_31</th>\n",
       "      <th class=\"col_heading level0 col4\" >2019_12_31</th>\n",
       "      <th class=\"col_heading level0 col5\" >2020_12_31</th>\n",
       "      <th class=\"col_heading level0 col6\" >2021_12_31</th>\n",
       "    </tr>\n",
       "  </thead>\n",
       "  <tbody>\n",
       "    <tr>\n",
       "      <th id=\"T_9e0c2_level0_row0\" class=\"row_heading level0 row0\" >0</th>\n",
       "      <td id=\"T_9e0c2_row0_col0\" class=\"data row0 col0\" >AALI</td>\n",
       "      <td id=\"T_9e0c2_row0_col1\" class=\"data row0 col1\" >BS</td>\n",
       "      <td id=\"T_9e0c2_row0_col2\" class=\"data row0 col2\" >Cash Financial</td>\n",
       "      <td id=\"T_9e0c2_row0_col3\" class=\"data row0 col3\" >49082000000.000000</td>\n",
       "      <td id=\"T_9e0c2_row0_col4\" class=\"data row0 col4\" >260446000000.000000</td>\n",
       "      <td id=\"T_9e0c2_row0_col5\" class=\"data row0 col5\" >107246000000.000000</td>\n",
       "      <td id=\"T_9e0c2_row0_col6\" class=\"data row0 col6\" >131675000000.000000</td>\n",
       "    </tr>\n",
       "    <tr>\n",
       "      <th id=\"T_9e0c2_level0_row1\" class=\"row_heading level0 row1\" >1</th>\n",
       "      <td id=\"T_9e0c2_row1_col0\" class=\"data row1 col0\" >AALI</td>\n",
       "      <td id=\"T_9e0c2_row1_col1\" class=\"data row1 col1\" >BS</td>\n",
       "      <td id=\"T_9e0c2_row1_col2\" class=\"data row1 col2\" >Net Tangible Assets</td>\n",
       "      <td id=\"T_9e0c2_row1_col3\" class=\"data row1 col3\" >18933678000000.000000</td>\n",
       "      <td id=\"T_9e0c2_row1_col4\" class=\"data row1 col4\" >18465202000000.000000</td>\n",
       "      <td id=\"T_9e0c2_row1_col5\" class=\"data row1 col5\" >18696542000000.000000</td>\n",
       "      <td id=\"T_9e0c2_row1_col6\" class=\"data row1 col6\" >20563241000000.000000</td>\n",
       "    </tr>\n",
       "    <tr>\n",
       "      <th id=\"T_9e0c2_level0_row2\" class=\"row_heading level0 row2\" >2</th>\n",
       "      <td id=\"T_9e0c2_row2_col0\" class=\"data row2 col0\" >AALI</td>\n",
       "      <td id=\"T_9e0c2_row2_col1\" class=\"data row2 col1\" >BS</td>\n",
       "      <td id=\"T_9e0c2_row2_col2\" class=\"data row2 col2\" >Long Term Debt</td>\n",
       "      <td id=\"T_9e0c2_row2_col3\" class=\"data row2 col3\" >3606303000000.000000</td>\n",
       "      <td id=\"T_9e0c2_row2_col4\" class=\"data row2 col4\" >5535466000000.000000</td>\n",
       "      <td id=\"T_9e0c2_row2_col5\" class=\"data row2 col5\" >5623933000000.000000</td>\n",
       "      <td id=\"T_9e0c2_row2_col6\" class=\"data row2 col6\" >2131944000000.000000</td>\n",
       "    </tr>\n",
       "    <tr>\n",
       "      <th id=\"T_9e0c2_level0_row3\" class=\"row_heading level0 row3\" >3</th>\n",
       "      <td id=\"T_9e0c2_row3_col0\" class=\"data row3 col0\" >AALI</td>\n",
       "      <td id=\"T_9e0c2_row3_col1\" class=\"data row3 col1\" >BS</td>\n",
       "      <td id=\"T_9e0c2_row3_col2\" class=\"data row3 col2\" >Invested Capital</td>\n",
       "      <td id=\"T_9e0c2_row3_col3\" class=\"data row3 col3\" >23720932000000.000000</td>\n",
       "      <td id=\"T_9e0c2_row3_col4\" class=\"data row3 col4\" >24206619000000.000000</td>\n",
       "      <td id=\"T_9e0c2_row3_col5\" class=\"data row3 col5\" >24376426000000.000000</td>\n",
       "      <td id=\"T_9e0c2_row3_col6\" class=\"data row3 col6\" >26315597000000.000000</td>\n",
       "    </tr>\n",
       "    <tr>\n",
       "      <th id=\"T_9e0c2_level0_row4\" class=\"row_heading level0 row4\" >4</th>\n",
       "      <td id=\"T_9e0c2_row4_col0\" class=\"data row4 col0\" >AALI</td>\n",
       "      <td id=\"T_9e0c2_row4_col1\" class=\"data row4 col1\" >BS</td>\n",
       "      <td id=\"T_9e0c2_row4_col2\" class=\"data row4 col2\" >Total Assets</td>\n",
       "      <td id=\"T_9e0c2_row4_col3\" class=\"data row4 col3\" >26856967000000.000000</td>\n",
       "      <td id=\"T_9e0c2_row4_col4\" class=\"data row4 col4\" >26974124000000.000000</td>\n",
       "      <td id=\"T_9e0c2_row4_col5\" class=\"data row4 col5\" >27781231000000.000000</td>\n",
       "      <td id=\"T_9e0c2_row4_col6\" class=\"data row4 col6\" >30399906000000.000000</td>\n",
       "    </tr>\n",
       "  </tbody>\n",
       "</table>\n"
      ],
      "text/plain": [
       "<pandas.io.formats.style.Styler at 0x7f28a32b72d0>"
      ]
     },
     "execution_count": 7,
     "metadata": {},
     "output_type": "execute_result"
    }
   ],
   "source": [
    "df_annual.head().style.background_gradient(cmap = \"Oranges\")"
   ]
  },
  {
   "cell_type": "markdown",
   "id": "1b85bd8d",
   "metadata": {
    "papermill": {
     "duration": 0.008338,
     "end_time": "2022-12-05T06:33:38.769185",
     "exception": false,
     "start_time": "2022-12-05T06:33:38.760847",
     "status": "completed"
    },
    "tags": []
   },
   "source": [
    "### Discrpitive Statistics"
   ]
  },
  {
   "cell_type": "code",
   "execution_count": 8,
   "id": "a4cb47f9",
   "metadata": {
    "execution": {
     "iopub.execute_input": "2022-12-05T06:33:38.787359Z",
     "iopub.status.busy": "2022-12-05T06:33:38.786957Z",
     "iopub.status.idle": "2022-12-05T06:33:38.839350Z",
     "shell.execute_reply": "2022-12-05T06:33:38.838477Z"
    },
    "papermill": {
     "duration": 0.06309,
     "end_time": "2022-12-05T06:33:38.841285",
     "exception": false,
     "start_time": "2022-12-05T06:33:38.778195",
     "status": "completed"
    },
    "tags": []
   },
   "outputs": [
    {
     "data": {
      "text/html": [
       "<style type=\"text/css\">\n",
       "#T_ac910_row0_col0, #T_ac910_row0_col1, #T_ac910_row0_col2, #T_ac910_row0_col4, #T_ac910_row0_col5, #T_ac910_row0_col6, #T_ac910_row0_col7, #T_ac910_row1_col0, #T_ac910_row1_col4, #T_ac910_row1_col5, #T_ac910_row1_col6, #T_ac910_row2_col0, #T_ac910_row2_col4, #T_ac910_row2_col5, #T_ac910_row2_col6, #T_ac910_row3_col0, #T_ac910_row3_col3, #T_ac910_row3_col4, #T_ac910_row3_col5, #T_ac910_row3_col6 {\n",
       "  background-color: #fff5eb;\n",
       "  color: #000000;\n",
       "}\n",
       "#T_ac910_row0_col3, #T_ac910_row3_col1, #T_ac910_row3_col2, #T_ac910_row3_col7 {\n",
       "  background-color: #7f2704;\n",
       "  color: #f1f1f1;\n",
       "}\n",
       "#T_ac910_row1_col1, #T_ac910_row1_col2 {\n",
       "  background-color: #fdcb9b;\n",
       "  color: #000000;\n",
       "}\n",
       "#T_ac910_row1_col3 {\n",
       "  background-color: #ea5f0e;\n",
       "  color: #f1f1f1;\n",
       "}\n",
       "#T_ac910_row1_col7 {\n",
       "  background-color: #fdc895;\n",
       "  color: #000000;\n",
       "}\n",
       "#T_ac910_row2_col1 {\n",
       "  background-color: #fd9e54;\n",
       "  color: #000000;\n",
       "}\n",
       "#T_ac910_row2_col2 {\n",
       "  background-color: #fc8a39;\n",
       "  color: #f1f1f1;\n",
       "}\n",
       "#T_ac910_row2_col3 {\n",
       "  background-color: #fd9b50;\n",
       "  color: #000000;\n",
       "}\n",
       "#T_ac910_row2_col7 {\n",
       "  background-color: #fd8c3b;\n",
       "  color: #f1f1f1;\n",
       "}\n",
       "</style>\n",
       "<table id=\"T_ac910_\">\n",
       "  <thead>\n",
       "    <tr>\n",
       "      <th class=\"blank level0\" >&nbsp;</th>\n",
       "      <th class=\"col_heading level0 col0\" >count</th>\n",
       "      <th class=\"col_heading level0 col1\" >mean</th>\n",
       "      <th class=\"col_heading level0 col2\" >std</th>\n",
       "      <th class=\"col_heading level0 col3\" >min</th>\n",
       "      <th class=\"col_heading level0 col4\" >25%</th>\n",
       "      <th class=\"col_heading level0 col5\" >50%</th>\n",
       "      <th class=\"col_heading level0 col6\" >75%</th>\n",
       "      <th class=\"col_heading level0 col7\" >max</th>\n",
       "    </tr>\n",
       "  </thead>\n",
       "  <tbody>\n",
       "    <tr>\n",
       "      <th id=\"T_ac910_level0_row0\" class=\"row_heading level0 row0\" >2018_12_31</th>\n",
       "      <td id=\"T_ac910_row0_col0\" class=\"data row0 col0\" >211505.000000</td>\n",
       "      <td id=\"T_ac910_row0_col1\" class=\"data row0 col1\" >413455132600.705933</td>\n",
       "      <td id=\"T_ac910_row0_col2\" class=\"data row0 col2\" >9957842936466.546875</td>\n",
       "      <td id=\"T_ac910_row0_col3\" class=\"data row0 col3\" >-243634782000000.000000</td>\n",
       "      <td id=\"T_ac910_row0_col4\" class=\"data row0 col4\" >-1.000000</td>\n",
       "      <td id=\"T_ac910_row0_col5\" class=\"data row0 col5\" >-1.000000</td>\n",
       "      <td id=\"T_ac910_row0_col6\" class=\"data row0 col6\" >-1.000000</td>\n",
       "      <td id=\"T_ac910_row0_col7\" class=\"data row0 col7\" >1296898292000000.000000</td>\n",
       "    </tr>\n",
       "    <tr>\n",
       "      <th id=\"T_ac910_level0_row1\" class=\"row_heading level0 row1\" >2019_12_31</th>\n",
       "      <td id=\"T_ac910_row1_col0\" class=\"data row1 col0\" >211505.000000</td>\n",
       "      <td id=\"T_ac910_row1_col1\" class=\"data row1 col1\" >447749350833.434387</td>\n",
       "      <td id=\"T_ac910_row1_col2\" class=\"data row1 col2\" >10857135187459.130859</td>\n",
       "      <td id=\"T_ac910_row1_col3\" class=\"data row1 col3\" >-325230288000000.000000</td>\n",
       "      <td id=\"T_ac910_row1_col4\" class=\"data row1 col4\" >-1.000000</td>\n",
       "      <td id=\"T_ac910_row1_col5\" class=\"data row1 col5\" >-1.000000</td>\n",
       "      <td id=\"T_ac910_row1_col6\" class=\"data row1 col6\" >-1.000000</td>\n",
       "      <td id=\"T_ac910_row1_col7\" class=\"data row1 col7\" >1416758840000000.000000</td>\n",
       "    </tr>\n",
       "    <tr>\n",
       "      <th id=\"T_ac910_level0_row2\" class=\"row_heading level0 row2\" >2020_12_31</th>\n",
       "      <td id=\"T_ac910_row2_col0\" class=\"data row2 col0\" >211505.000000</td>\n",
       "      <td id=\"T_ac910_row2_col1\" class=\"data row2 col1\" >469484917695.552246</td>\n",
       "      <td id=\"T_ac910_row2_col2\" class=\"data row2 col2\" >11671010386425.837891</td>\n",
       "      <td id=\"T_ac910_row2_col3\" class=\"data row2 col3\" >-376828159000000.000000</td>\n",
       "      <td id=\"T_ac910_row2_col4\" class=\"data row2 col4\" >-1.000000</td>\n",
       "      <td id=\"T_ac910_row2_col5\" class=\"data row2 col5\" >-1.000000</td>\n",
       "      <td id=\"T_ac910_row2_col6\" class=\"data row2 col6\" >-1.000000</td>\n",
       "      <td id=\"T_ac910_row2_col7\" class=\"data row2 col7\" >1511804628000000.000000</td>\n",
       "    </tr>\n",
       "    <tr>\n",
       "      <th id=\"T_ac910_level0_row3\" class=\"row_heading level0 row3\" >2021_12_31</th>\n",
       "      <td id=\"T_ac910_row3_col0\" class=\"data row3 col0\" >211505.000000</td>\n",
       "      <td id=\"T_ac910_row3_col1\" class=\"data row3 col1\" >542112404127.017578</td>\n",
       "      <td id=\"T_ac910_row3_col2\" class=\"data row3 col2\" >13314255501644.492188</td>\n",
       "      <td id=\"T_ac910_row3_col3\" class=\"data row3 col3\" >-484615856000000.000000</td>\n",
       "      <td id=\"T_ac910_row3_col4\" class=\"data row3 col4\" >-1.000000</td>\n",
       "      <td id=\"T_ac910_row3_col5\" class=\"data row3 col5\" >-1.000000</td>\n",
       "      <td id=\"T_ac910_row3_col6\" class=\"data row3 col6\" >-1.000000</td>\n",
       "      <td id=\"T_ac910_row3_col7\" class=\"data row3 col7\" >1725611128000000.000000</td>\n",
       "    </tr>\n",
       "  </tbody>\n",
       "</table>\n"
      ],
      "text/plain": [
       "<pandas.io.formats.style.Styler at 0x7f28a2bdce50>"
      ]
     },
     "execution_count": 8,
     "metadata": {},
     "output_type": "execute_result"
    }
   ],
   "source": [
    "df_annual.describe().T.style.background_gradient(cmap = \"Oranges\")"
   ]
  },
  {
   "cell_type": "markdown",
   "id": "55613115",
   "metadata": {
    "papermill": {
     "duration": 0.007559,
     "end_time": "2022-12-05T06:33:38.856951",
     "exception": false,
     "start_time": "2022-12-05T06:33:38.849392",
     "status": "completed"
    },
    "tags": []
   },
   "source": [
    "### Correlation Matrix"
   ]
  },
  {
   "cell_type": "code",
   "execution_count": 9,
   "id": "80a979a3",
   "metadata": {
    "execution": {
     "iopub.execute_input": "2022-12-05T06:33:38.874836Z",
     "iopub.status.busy": "2022-12-05T06:33:38.874107Z",
     "iopub.status.idle": "2022-12-05T06:33:38.904009Z",
     "shell.execute_reply": "2022-12-05T06:33:38.903129Z"
    },
    "papermill": {
     "duration": 0.041069,
     "end_time": "2022-12-05T06:33:38.905865",
     "exception": false,
     "start_time": "2022-12-05T06:33:38.864796",
     "status": "completed"
    },
    "tags": []
   },
   "outputs": [
    {
     "data": {
      "text/html": [
       "<style type=\"text/css\">\n",
       "#T_26dd3_row0_col0, #T_26dd3_row1_col1, #T_26dd3_row2_col2, #T_26dd3_row3_col3 {\n",
       "  background-color: #7f2704;\n",
       "  color: #f1f1f1;\n",
       "}\n",
       "#T_26dd3_row0_col1 {\n",
       "  background-color: #de4e05;\n",
       "  color: #f1f1f1;\n",
       "}\n",
       "#T_26dd3_row0_col2, #T_26dd3_row0_col3, #T_26dd3_row3_col0, #T_26dd3_row3_col1 {\n",
       "  background-color: #fff5eb;\n",
       "  color: #000000;\n",
       "}\n",
       "#T_26dd3_row1_col0 {\n",
       "  background-color: #d54601;\n",
       "  color: #f1f1f1;\n",
       "}\n",
       "#T_26dd3_row1_col2 {\n",
       "  background-color: #fdd7b1;\n",
       "  color: #000000;\n",
       "}\n",
       "#T_26dd3_row1_col3 {\n",
       "  background-color: #fee6ce;\n",
       "  color: #000000;\n",
       "}\n",
       "#T_26dd3_row2_col0 {\n",
       "  background-color: #fda55f;\n",
       "  color: #000000;\n",
       "}\n",
       "#T_26dd3_row2_col1 {\n",
       "  background-color: #fd974a;\n",
       "  color: #000000;\n",
       "}\n",
       "#T_26dd3_row2_col3 {\n",
       "  background-color: #fb8836;\n",
       "  color: #f1f1f1;\n",
       "}\n",
       "#T_26dd3_row3_col2 {\n",
       "  background-color: #fedcb9;\n",
       "  color: #000000;\n",
       "}\n",
       "</style>\n",
       "<table id=\"T_26dd3_\">\n",
       "  <thead>\n",
       "    <tr>\n",
       "      <th class=\"blank level0\" >&nbsp;</th>\n",
       "      <th class=\"col_heading level0 col0\" >2018_12_31</th>\n",
       "      <th class=\"col_heading level0 col1\" >2019_12_31</th>\n",
       "      <th class=\"col_heading level0 col2\" >2020_12_31</th>\n",
       "      <th class=\"col_heading level0 col3\" >2021_12_31</th>\n",
       "    </tr>\n",
       "  </thead>\n",
       "  <tbody>\n",
       "    <tr>\n",
       "      <th id=\"T_26dd3_level0_row0\" class=\"row_heading level0 row0\" >2018_12_31</th>\n",
       "      <td id=\"T_26dd3_row0_col0\" class=\"data row0 col0\" >1.000000</td>\n",
       "      <td id=\"T_26dd3_row0_col1\" class=\"data row0 col1\" >0.991680</td>\n",
       "      <td id=\"T_26dd3_row0_col2\" class=\"data row0 col2\" >0.979506</td>\n",
       "      <td id=\"T_26dd3_row0_col3\" class=\"data row0 col3\" >0.965368</td>\n",
       "    </tr>\n",
       "    <tr>\n",
       "      <th id=\"T_26dd3_level0_row1\" class=\"row_heading level0 row1\" >2019_12_31</th>\n",
       "      <td id=\"T_26dd3_row1_col0\" class=\"data row1 col0\" >0.991680</td>\n",
       "      <td id=\"T_26dd3_row1_col1\" class=\"data row1 col1\" >1.000000</td>\n",
       "      <td id=\"T_26dd3_row1_col2\" class=\"data row1 col2\" >0.983763</td>\n",
       "      <td id=\"T_26dd3_row1_col3\" class=\"data row1 col3\" >0.969727</td>\n",
       "    </tr>\n",
       "    <tr>\n",
       "      <th id=\"T_26dd3_level0_row2\" class=\"row_heading level0 row2\" >2020_12_31</th>\n",
       "      <td id=\"T_26dd3_row2_col0\" class=\"data row2 col0\" >0.979506</td>\n",
       "      <td id=\"T_26dd3_row2_col1\" class=\"data row2 col1\" >0.983763</td>\n",
       "      <td id=\"T_26dd3_row2_col2\" class=\"data row2 col2\" >1.000000</td>\n",
       "      <td id=\"T_26dd3_row2_col3\" class=\"data row2 col3\" >0.983341</td>\n",
       "    </tr>\n",
       "    <tr>\n",
       "      <th id=\"T_26dd3_level0_row3\" class=\"row_heading level0 row3\" >2021_12_31</th>\n",
       "      <td id=\"T_26dd3_row3_col0\" class=\"data row3 col0\" >0.965368</td>\n",
       "      <td id=\"T_26dd3_row3_col1\" class=\"data row3 col1\" >0.969727</td>\n",
       "      <td id=\"T_26dd3_row3_col2\" class=\"data row3 col2\" >0.983341</td>\n",
       "      <td id=\"T_26dd3_row3_col3\" class=\"data row3 col3\" >1.000000</td>\n",
       "    </tr>\n",
       "  </tbody>\n",
       "</table>\n"
      ],
      "text/plain": [
       "<pandas.io.formats.style.Styler at 0x7f28a2be21d0>"
      ]
     },
     "execution_count": 9,
     "metadata": {},
     "output_type": "execute_result"
    }
   ],
   "source": [
    "df_annual.corr().style.background_gradient(cmap = \"Oranges\")"
   ]
  },
  {
   "cell_type": "markdown",
   "id": "63a6c747",
   "metadata": {
    "papermill": {
     "duration": 0.007764,
     "end_time": "2022-12-05T06:33:38.922015",
     "exception": false,
     "start_time": "2022-12-05T06:33:38.914251",
     "status": "completed"
    },
    "tags": []
   },
   "source": [
    "## Inspect the columns\n",
    "- **categorical features (barplot):**`account`\n",
    "- **numerical features (distplot):** `2019_12_31`, `2020_12_31`, `2018_12_31`, `2021_12_31`\n",
    "- **categorical features (distplot):** `type`, `symbol`\n",
    "\n",
    "### Inspect Numerical Features"
   ]
  },
  {
   "cell_type": "code",
   "execution_count": 10,
   "id": "dca98050",
   "metadata": {
    "execution": {
     "iopub.execute_input": "2022-12-05T06:33:38.941697Z",
     "iopub.status.busy": "2022-12-05T06:33:38.941224Z",
     "iopub.status.idle": "2022-12-05T06:33:44.463598Z",
     "shell.execute_reply": "2022-12-05T06:33:44.462357Z"
    },
    "papermill": {
     "duration": 5.536155,
     "end_time": "2022-12-05T06:33:44.466347",
     "exception": false,
     "start_time": "2022-12-05T06:33:38.930192",
     "status": "completed"
    },
    "tags": []
   },
   "outputs": [
    {
     "name": "stdout",
     "output_type": "stream",
     "text": [
      "Mean: 447,749,350,833.4344 \n",
      "Median: -1.0 \n",
      "Max: 1,416,758,840,000,000.0\n"
     ]
    },
    {
     "data": {
      "image/png": "[encoded data removed]",
      "text/plain": [
       "<Figure size 1296x216 with 1 Axes>"
      ]
     },
     "metadata": {},
     "output_type": "display_data"
    },
    {
     "name": "stdout",
     "output_type": "stream",
     "text": [
      "Mean: 469,484,917,695.55225 \n",
      "Median: -1.0 \n",
      "Max: 1,511,804,628,000,000.0\n"
     ]
    },
    {
     "data": {
      "image/png": "[encoded data removed]",
      "text/plain": [
       "<Figure size 1296x216 with 1 Axes>"
      ]
     },
     "metadata": {},
     "output_type": "display_data"
    },
    {
     "name": "stdout",
     "output_type": "stream",
     "text": [
      "Mean: 413,455,132,600.70593 \n",
      "Median: -1.0 \n",
      "Max: 1,296,898,292,000,000.0\n"
     ]
    },
    {
     "data": {
      "image/png": "[encoded data removed]",
      "text/plain": [
       "<Figure size 1296x216 with 1 Axes>"
      ]
     },
     "metadata": {},
     "output_type": "display_data"
    },
    {
     "name": "stdout",
     "output_type": "stream",
     "text": [
      "Mean: 542,112,404,127.0176 \n",
      "Median: -1.0 \n",
      "Max: 1,725,611,128,000,000.0\n"
     ]
    },
    {
     "data": {
      "image/png": "[encoded data removed]",
      "text/plain": [
       "<Figure size 1296x216 with 1 Axes>"
      ]
     },
     "metadata": {},
     "output_type": "display_data"
    }
   ],
   "source": [
    "\n",
    "numerical_features = ['2019_12_31', '2020_12_31', '2018_12_31', '2021_12_31']\n",
    "\n",
    "for feature in numerical_features:\n",
    "    distplot_features(df_annual, feature=feature, title = feature + \" distribution\", color = custom_colors[2], categorical=False)\n"
   ]
  },
  {
   "cell_type": "markdown",
   "id": "9322471c",
   "metadata": {
    "papermill": {
     "duration": 0.009475,
     "end_time": "2022-12-05T06:33:44.486074",
     "exception": false,
     "start_time": "2022-12-05T06:33:44.476599",
     "status": "completed"
    },
    "tags": []
   },
   "source": [
    "### Inspect Categorical Features"
   ]
  },
  {
   "cell_type": "code",
   "execution_count": 11,
   "id": "630e050d",
   "metadata": {
    "execution": {
     "iopub.execute_input": "2022-12-05T06:33:44.507900Z",
     "iopub.status.busy": "2022-12-05T06:33:44.507431Z",
     "iopub.status.idle": "2022-12-05T06:33:45.213979Z",
     "shell.execute_reply": "2022-12-05T06:33:45.212226Z"
    },
    "papermill": {
     "duration": 0.721433,
     "end_time": "2022-12-05T06:33:45.216794",
     "exception": false,
     "start_time": "2022-12-05T06:33:44.495361",
     "status": "completed"
    },
    "tags": []
   },
   "outputs": [
    {
     "name": "stdout",
     "output_type": "stream",
     "text": [
      "Mean: 543.7146529562982 \n",
      "Median: 541.0 \n",
      "Max: 1,082\n"
     ]
    },
    {
     "data": {
      "image/png": "[encoded data removed]",
      "text/plain": [
       "<Figure size 1296x216 with 1 Axes>"
      ]
     },
     "metadata": {},
     "output_type": "display_data"
    },
    {
     "name": "stdout",
     "output_type": "stream",
     "text": [
      "Mean: 388.08256880733944 \n",
      "Median: 391.0 \n",
      "Max: 391\n"
     ]
    },
    {
     "data": {
      "image/png": "[encoded data removed]",
      "text/plain": [
       "<Figure size 1296x216 with 1 Axes>"
      ]
     },
     "metadata": {},
     "output_type": "display_data"
    }
   ],
   "source": [
    "\n",
    "categorical_features = ['type', 'symbol'] \n",
    "\n",
    "for feature in categorical_features:\n",
    "    distplot_features(df_annual, feature=feature, title = feature + \" countplot distribution\", color = custom_colors[3], categorical=True)\n"
   ]
  },
  {
   "cell_type": "markdown",
   "id": "20661609",
   "metadata": {
    "papermill": {
     "duration": 0.009693,
     "end_time": "2022-12-05T06:33:45.236818",
     "exception": false,
     "start_time": "2022-12-05T06:33:45.227125",
     "status": "completed"
    },
    "tags": []
   },
   "source": [
    "### Inspect Low Cardinality Categorical Features"
   ]
  },
  {
   "cell_type": "code",
   "execution_count": 12,
   "id": "e1331e8b",
   "metadata": {
    "execution": {
     "iopub.execute_input": "2022-12-05T06:33:45.267836Z",
     "iopub.status.busy": "2022-12-05T06:33:45.267142Z",
     "iopub.status.idle": "2022-12-05T06:33:45.580779Z",
     "shell.execute_reply": "2022-12-05T06:33:45.579242Z"
    },
    "papermill": {
     "duration": 0.330473,
     "end_time": "2022-12-05T06:33:45.582931",
     "exception": false,
     "start_time": "2022-12-05T06:33:45.252458",
     "status": "completed"
    },
    "tags": []
   },
   "outputs": [
    {
     "data": {
      "image/png": "[encoded data removed]",
      "text/plain": [
       "<Figure size 1296x216 with 1 Axes>"
      ]
     },
     "metadata": {},
     "output_type": "display_data"
    }
   ],
   "source": [
    "\n",
    "categorical_for_bar = ['account']\n",
    "for feature in categorical_for_bar:\n",
    "    barplot_features(df_annual, feature=feature, title = feature + \" barplot\", palette = custom_colors)\n"
   ]
  },
  {
   "cell_type": "code",
   "execution_count": 13,
   "id": "d5832d34",
   "metadata": {
    "execution": {
     "iopub.execute_input": "2022-12-05T06:33:45.628258Z",
     "iopub.status.busy": "2022-12-05T06:33:45.627789Z",
     "iopub.status.idle": "2022-12-05T06:33:46.027430Z",
     "shell.execute_reply": "2022-12-05T06:33:46.025353Z"
    },
    "papermill": {
     "duration": 0.414408,
     "end_time": "2022-12-05T06:33:46.030302",
     "exception": false,
     "start_time": "2022-12-05T06:33:45.615894",
     "status": "completed"
    },
    "tags": []
   },
   "outputs": [
    {
     "name": "stdout",
     "output_type": "stream",
     "text": [
      "Rows: 208,691 \n",
      "Columns: 8\n",
      "type has: 542 (0.26%) missing values.\n",
      "2021_09_30 has: 156,969 (7.5e+01%) missing values.\n",
      "2021_12_31 has: 157,153 (7.5e+01%) missing values.\n",
      "2022_03_31 has: 155,242 (7.4e+01%) missing values.\n",
      "2022_06_30 has: 158,316 (7.6e+01%) missing values.\n",
      "2022_09_30 has: 191,678 (9.2e+01%) missing values.\n"
     ]
    }
   ],
   "source": [
    "df_quarter = pd.read_csv('../input/financial-statement-idx-stocks/quarter.csv', names = ['symbol', 'account', 'type', '2021_09_30', '2021_12_31', '2022_03_31', '2022_06_30', '2022_09_30'], header = 0)\n",
    "\n",
    "# Data Information\n",
    "print(\"Rows: {:,}\".format(len(df_quarter)), \"\\n\" + \"Columns: {}\".format(len(df_quarter.columns)))\n",
    "\n",
    "# Find Missing Data if any\n",
    "for column in df_quarter.columns:\n",
    "    if df_quarter[column].isna().sum() != 0:\n",
    "        print(\"{} has: {:,} ({:.2}%) missing values.\".format(column, df_quarter[column].isna().sum(), (df_quarter[column].isna().sum()/len(df_quarter))*100))       \n",
    "\n",
    "# Fill in missing values with \"-1\"\n",
    "\n",
    "df_quarter['type'] = df_quarter['type'].fillna(-1)\n",
    "df_quarter['2021_09_30'] = df_quarter['2021_09_30'].fillna(-1)\n",
    "df_quarter['2021_12_31'] = df_quarter['2021_12_31'].fillna(-1)\n",
    "df_quarter['2022_03_31'] = df_quarter['2022_03_31'].fillna(-1)\n",
    "df_quarter['2022_06_30'] = df_quarter['2022_06_30'].fillna(-1)\n",
    "df_quarter['2022_09_30'] = df_quarter['2022_09_30'].fillna(-1)\n"
   ]
  },
  {
   "cell_type": "markdown",
   "id": "2cffca3e",
   "metadata": {
    "papermill": {
     "duration": 0.010341,
     "end_time": "2022-12-05T06:33:46.051670",
     "exception": false,
     "start_time": "2022-12-05T06:33:46.041329",
     "status": "completed"
    },
    "tags": []
   },
   "source": [
    "### Peaking into the data"
   ]
  },
  {
   "cell_type": "code",
   "execution_count": 14,
   "id": "a3ba8aac",
   "metadata": {
    "execution": {
     "iopub.execute_input": "2022-12-05T06:33:46.080467Z",
     "iopub.status.busy": "2022-12-05T06:33:46.077476Z",
     "iopub.status.idle": "2022-12-05T06:33:46.106205Z",
     "shell.execute_reply": "2022-12-05T06:33:46.104973Z"
    },
    "papermill": {
     "duration": 0.047132,
     "end_time": "2022-12-05T06:33:46.109653",
     "exception": false,
     "start_time": "2022-12-05T06:33:46.062521",
     "status": "completed"
    },
    "tags": []
   },
   "outputs": [
    {
     "data": {
      "text/html": [
       "<style type=\"text/css\">\n",
       "#T_71581_row0_col3, #T_71581_row0_col4, #T_71581_row0_col5, #T_71581_row0_col6 {\n",
       "  background-color: #fff4e9;\n",
       "  color: #000000;\n",
       "}\n",
       "#T_71581_row0_col7 {\n",
       "  background-color: #fff4e8;\n",
       "  color: #000000;\n",
       "}\n",
       "#T_71581_row1_col3 {\n",
       "  background-color: #fee5cc;\n",
       "  color: #000000;\n",
       "}\n",
       "#T_71581_row1_col4, #T_71581_row1_col6 {\n",
       "  background-color: #fee6ce;\n",
       "  color: #000000;\n",
       "}\n",
       "#T_71581_row1_col5 {\n",
       "  background-color: #fee6cf;\n",
       "  color: #000000;\n",
       "}\n",
       "#T_71581_row1_col7 {\n",
       "  background-color: #fee7d0;\n",
       "  color: #000000;\n",
       "}\n",
       "#T_71581_row2_col3 {\n",
       "  background-color: #fddab6;\n",
       "  color: #000000;\n",
       "}\n",
       "#T_71581_row2_col4, #T_71581_row2_col5 {\n",
       "  background-color: #feeddc;\n",
       "  color: #000000;\n",
       "}\n",
       "#T_71581_row2_col6 {\n",
       "  background-color: #feeddb;\n",
       "  color: #000000;\n",
       "}\n",
       "#T_71581_row2_col7 {\n",
       "  background-color: #fee9d4;\n",
       "  color: #000000;\n",
       "}\n",
       "#T_71581_row3_col3, #T_71581_row3_col4, #T_71581_row3_col5, #T_71581_row3_col6, #T_71581_row3_col7 {\n",
       "  background-color: #fff5eb;\n",
       "  color: #000000;\n",
       "}\n",
       "#T_71581_row4_col3, #T_71581_row4_col4, #T_71581_row4_col5, #T_71581_row4_col6, #T_71581_row4_col7 {\n",
       "  background-color: #7f2704;\n",
       "  color: #f1f1f1;\n",
       "}\n",
       "</style>\n",
       "<table id=\"T_71581_\">\n",
       "  <thead>\n",
       "    <tr>\n",
       "      <th class=\"blank level0\" >&nbsp;</th>\n",
       "      <th class=\"col_heading level0 col0\" >symbol</th>\n",
       "      <th class=\"col_heading level0 col1\" >account</th>\n",
       "      <th class=\"col_heading level0 col2\" >type</th>\n",
       "      <th class=\"col_heading level0 col3\" >2021_09_30</th>\n",
       "      <th class=\"col_heading level0 col4\" >2021_12_31</th>\n",
       "      <th class=\"col_heading level0 col5\" >2022_03_31</th>\n",
       "      <th class=\"col_heading level0 col6\" >2022_06_30</th>\n",
       "      <th class=\"col_heading level0 col7\" >2022_09_30</th>\n",
       "    </tr>\n",
       "  </thead>\n",
       "  <tbody>\n",
       "    <tr>\n",
       "      <th id=\"T_71581_level0_row0\" class=\"row_heading level0 row0\" >0</th>\n",
       "      <td id=\"T_71581_row0_col0\" class=\"data row0 col0\" >AALI</td>\n",
       "      <td id=\"T_71581_row0_col1\" class=\"data row0 col1\" >BS</td>\n",
       "      <td id=\"T_71581_row0_col2\" class=\"data row0 col2\" >Long Term Equity Investment</td>\n",
       "      <td id=\"T_71581_row0_col3\" class=\"data row0 col3\" >323520000000.000000</td>\n",
       "      <td id=\"T_71581_row0_col4\" class=\"data row0 col4\" >330904000000.000000</td>\n",
       "      <td id=\"T_71581_row0_col5\" class=\"data row0 col5\" >327580000000.000000</td>\n",
       "      <td id=\"T_71581_row0_col6\" class=\"data row0 col6\" >285069000000.000000</td>\n",
       "      <td id=\"T_71581_row0_col7\" class=\"data row0 col7\" >471463000000.000000</td>\n",
       "    </tr>\n",
       "    <tr>\n",
       "      <th id=\"T_71581_level0_row1\" class=\"row_heading level0 row1\" >1</th>\n",
       "      <td id=\"T_71581_row1_col0\" class=\"data row1 col0\" >AALI</td>\n",
       "      <td id=\"T_71581_row1_col1\" class=\"data row1 col1\" >BS</td>\n",
       "      <td id=\"T_71581_row1_col2\" class=\"data row1 col2\" >Additional Paid In Capital</td>\n",
       "      <td id=\"T_71581_row1_col3\" class=\"data row1 col3\" >3878995000000.000000</td>\n",
       "      <td id=\"T_71581_row1_col4\" class=\"data row1 col4\" >3878995000000.000000</td>\n",
       "      <td id=\"T_71581_row1_col5\" class=\"data row1 col5\" >3878995000000.000000</td>\n",
       "      <td id=\"T_71581_row1_col6\" class=\"data row1 col6\" >3878995000000.000000</td>\n",
       "      <td id=\"T_71581_row1_col7\" class=\"data row1 col7\" >3878995000000.000000</td>\n",
       "    </tr>\n",
       "    <tr>\n",
       "      <th id=\"T_71581_level0_row2\" class=\"row_heading level0 row2\" >2</th>\n",
       "      <td id=\"T_71581_row2_col0\" class=\"data row2 col0\" >AALI</td>\n",
       "      <td id=\"T_71581_row2_col1\" class=\"data row2 col1\" >BS</td>\n",
       "      <td id=\"T_71581_row2_col2\" class=\"data row2 col2\" >Long Term Debt</td>\n",
       "      <td id=\"T_71581_row2_col3\" class=\"data row2 col3\" >5709887000000.000000</td>\n",
       "      <td id=\"T_71581_row2_col4\" class=\"data row2 col4\" >2131944000000.000000</td>\n",
       "      <td id=\"T_71581_row2_col5\" class=\"data row2 col5\" >2144732000000.000000</td>\n",
       "      <td id=\"T_71581_row2_col6\" class=\"data row2 col6\" >2220370000000.000000</td>\n",
       "      <td id=\"T_71581_row2_col7\" class=\"data row2 col7\" >3281008000000.000000</td>\n",
       "    </tr>\n",
       "    <tr>\n",
       "      <th id=\"T_71581_level0_row3\" class=\"row_heading level0 row3\" >3</th>\n",
       "      <td id=\"T_71581_row3_col0\" class=\"data row3 col0\" >AALI</td>\n",
       "      <td id=\"T_71581_row3_col1\" class=\"data row3 col1\" >BS</td>\n",
       "      <td id=\"T_71581_row3_col2\" class=\"data row3 col2\" >Ordinary Shares Number</td>\n",
       "      <td id=\"T_71581_row3_col3\" class=\"data row3 col3\" >1924688333.000000</td>\n",
       "      <td id=\"T_71581_row3_col4\" class=\"data row3 col4\" >1924688333.000000</td>\n",
       "      <td id=\"T_71581_row3_col5\" class=\"data row3 col5\" >1924688333.000000</td>\n",
       "      <td id=\"T_71581_row3_col6\" class=\"data row3 col6\" >1924688333.000000</td>\n",
       "      <td id=\"T_71581_row3_col7\" class=\"data row3 col7\" >1924688333.000000</td>\n",
       "    </tr>\n",
       "    <tr>\n",
       "      <th id=\"T_71581_level0_row4\" class=\"row_heading level0 row4\" >4</th>\n",
       "      <td id=\"T_71581_row4_col0\" class=\"data row4 col0\" >AALI</td>\n",
       "      <td id=\"T_71581_row4_col1\" class=\"data row4 col1\" >BS</td>\n",
       "      <td id=\"T_71581_row4_col2\" class=\"data row4 col2\" >Total Assets</td>\n",
       "      <td id=\"T_71581_row4_col3\" class=\"data row4 col3\" >29694011000000.000000</td>\n",
       "      <td id=\"T_71581_row4_col4\" class=\"data row4 col4\" >30399906000000.000000</td>\n",
       "      <td id=\"T_71581_row4_col5\" class=\"data row4 col5\" >31232777000000.000000</td>\n",
       "      <td id=\"T_71581_row4_col6\" class=\"data row4 col6\" >30233993000000.000000</td>\n",
       "      <td id=\"T_71581_row4_col7\" class=\"data row4 col7\" >32638650000000.000000</td>\n",
       "    </tr>\n",
       "  </tbody>\n",
       "</table>\n"
      ],
      "text/plain": [
       "<pandas.io.formats.style.Styler at 0x7f28a2bcd9d0>"
      ]
     },
     "execution_count": 14,
     "metadata": {},
     "output_type": "execute_result"
    }
   ],
   "source": [
    "df_quarter.head().style.background_gradient(cmap = \"Oranges\")"
   ]
  },
  {
   "cell_type": "markdown",
   "id": "0490b441",
   "metadata": {
    "papermill": {
     "duration": 0.011486,
     "end_time": "2022-12-05T06:33:46.136252",
     "exception": false,
     "start_time": "2022-12-05T06:33:46.124766",
     "status": "completed"
    },
    "tags": []
   },
   "source": [
    "### Discrpitive Statistics"
   ]
  },
  {
   "cell_type": "code",
   "execution_count": 15,
   "id": "d65347d0",
   "metadata": {
    "execution": {
     "iopub.execute_input": "2022-12-05T06:33:46.162608Z",
     "iopub.status.busy": "2022-12-05T06:33:46.161882Z",
     "iopub.status.idle": "2022-12-05T06:33:46.217176Z",
     "shell.execute_reply": "2022-12-05T06:33:46.215339Z"
    },
    "papermill": {
     "duration": 0.072271,
     "end_time": "2022-12-05T06:33:46.219673",
     "exception": false,
     "start_time": "2022-12-05T06:33:46.147402",
     "status": "completed"
    },
    "tags": []
   },
   "outputs": [
    {
     "data": {
      "text/html": [
       "<style type=\"text/css\">\n",
       "#T_6bf9e_row0_col0, #T_6bf9e_row0_col4, #T_6bf9e_row0_col5, #T_6bf9e_row0_col6, #T_6bf9e_row0_col7, #T_6bf9e_row1_col0, #T_6bf9e_row1_col3, #T_6bf9e_row1_col4, #T_6bf9e_row1_col5, #T_6bf9e_row1_col6, #T_6bf9e_row2_col0, #T_6bf9e_row2_col4, #T_6bf9e_row2_col5, #T_6bf9e_row2_col6, #T_6bf9e_row3_col0, #T_6bf9e_row3_col4, #T_6bf9e_row3_col5, #T_6bf9e_row3_col6, #T_6bf9e_row4_col0, #T_6bf9e_row4_col1, #T_6bf9e_row4_col2, #T_6bf9e_row4_col4, #T_6bf9e_row4_col5, #T_6bf9e_row4_col6 {\n",
       "  background-color: #fff5eb;\n",
       "  color: #000000;\n",
       "}\n",
       "#T_6bf9e_row0_col1 {\n",
       "  background-color: #b83c02;\n",
       "  color: #f1f1f1;\n",
       "}\n",
       "#T_6bf9e_row0_col2 {\n",
       "  background-color: #d34601;\n",
       "  color: #f1f1f1;\n",
       "}\n",
       "#T_6bf9e_row0_col3, #T_6bf9e_row3_col1, #T_6bf9e_row3_col2, #T_6bf9e_row4_col7 {\n",
       "  background-color: #7f2704;\n",
       "  color: #f1f1f1;\n",
       "}\n",
       "#T_6bf9e_row1_col1 {\n",
       "  background-color: #8e2d04;\n",
       "  color: #f1f1f1;\n",
       "}\n",
       "#T_6bf9e_row1_col2 {\n",
       "  background-color: #912e04;\n",
       "  color: #f1f1f1;\n",
       "}\n",
       "#T_6bf9e_row1_col7 {\n",
       "  background-color: #fd9e54;\n",
       "  color: #000000;\n",
       "}\n",
       "#T_6bf9e_row2_col1 {\n",
       "  background-color: #973003;\n",
       "  color: #f1f1f1;\n",
       "}\n",
       "#T_6bf9e_row2_col2 {\n",
       "  background-color: #942f03;\n",
       "  color: #f1f1f1;\n",
       "}\n",
       "#T_6bf9e_row2_col3 {\n",
       "  background-color: #be3f02;\n",
       "  color: #f1f1f1;\n",
       "}\n",
       "#T_6bf9e_row2_col7 {\n",
       "  background-color: #fd9344;\n",
       "  color: #000000;\n",
       "}\n",
       "#T_6bf9e_row3_col3 {\n",
       "  background-color: #952f03;\n",
       "  color: #f1f1f1;\n",
       "}\n",
       "#T_6bf9e_row3_col7 {\n",
       "  background-color: #dc4c03;\n",
       "  color: #f1f1f1;\n",
       "}\n",
       "#T_6bf9e_row4_col3 {\n",
       "  background-color: #993103;\n",
       "  color: #f1f1f1;\n",
       "}\n",
       "</style>\n",
       "<table id=\"T_6bf9e_\">\n",
       "  <thead>\n",
       "    <tr>\n",
       "      <th class=\"blank level0\" >&nbsp;</th>\n",
       "      <th class=\"col_heading level0 col0\" >count</th>\n",
       "      <th class=\"col_heading level0 col1\" >mean</th>\n",
       "      <th class=\"col_heading level0 col2\" >std</th>\n",
       "      <th class=\"col_heading level0 col3\" >min</th>\n",
       "      <th class=\"col_heading level0 col4\" >25%</th>\n",
       "      <th class=\"col_heading level0 col5\" >50%</th>\n",
       "      <th class=\"col_heading level0 col6\" >75%</th>\n",
       "      <th class=\"col_heading level0 col7\" >max</th>\n",
       "    </tr>\n",
       "  </thead>\n",
       "  <tbody>\n",
       "    <tr>\n",
       "      <th id=\"T_6bf9e_level0_row0\" class=\"row_heading level0 row0\" >2021_09_30</th>\n",
       "      <td id=\"T_6bf9e_row0_col0\" class=\"data row0 col0\" >208691.000000</td>\n",
       "      <td id=\"T_6bf9e_row0_col1\" class=\"data row0 col1\" >475407541208.155762</td>\n",
       "      <td id=\"T_6bf9e_row0_col2\" class=\"data row0 col2\" >12373373337524.767578</td>\n",
       "      <td id=\"T_6bf9e_row0_col3\" class=\"data row0 col3\" >-175313000000000.000000</td>\n",
       "      <td id=\"T_6bf9e_row0_col4\" class=\"data row0 col4\" >-1.000000</td>\n",
       "      <td id=\"T_6bf9e_row0_col5\" class=\"data row0 col5\" >-1.000000</td>\n",
       "      <td id=\"T_6bf9e_row0_col6\" class=\"data row0 col6\" >-1.000000</td>\n",
       "      <td id=\"T_6bf9e_row0_col7\" class=\"data row0 col7\" >1637950171000000.000000</td>\n",
       "    </tr>\n",
       "    <tr>\n",
       "      <th id=\"T_6bf9e_level0_row1\" class=\"row_heading level0 row1\" >2021_12_31</th>\n",
       "      <td id=\"T_6bf9e_row1_col0\" class=\"data row1 col0\" >208691.000000</td>\n",
       "      <td id=\"T_6bf9e_row1_col1\" class=\"data row1 col1\" >504400456256.033875</td>\n",
       "      <td id=\"T_6bf9e_row1_col2\" class=\"data row1 col2\" >13003131678252.183594</td>\n",
       "      <td id=\"T_6bf9e_row1_col3\" class=\"data row1 col3\" >-438813037000000.000000</td>\n",
       "      <td id=\"T_6bf9e_row1_col4\" class=\"data row1 col4\" >-1.000000</td>\n",
       "      <td id=\"T_6bf9e_row1_col5\" class=\"data row1 col5\" >-1.000000</td>\n",
       "      <td id=\"T_6bf9e_row1_col6\" class=\"data row1 col6\" >-1.000000</td>\n",
       "      <td id=\"T_6bf9e_row1_col7\" class=\"data row1 col7\" >1725611128000000.000000</td>\n",
       "    </tr>\n",
       "    <tr>\n",
       "      <th id=\"T_6bf9e_level0_row2\" class=\"row_heading level0 row2\" >2022_03_31</th>\n",
       "      <td id=\"T_6bf9e_row2_col0\" class=\"data row2 col0\" >208691.000000</td>\n",
       "      <td id=\"T_6bf9e_row2_col1\" class=\"data row2 col1\" >496926086344.076660</td>\n",
       "      <td id=\"T_6bf9e_row2_col2\" class=\"data row2 col2\" >12975608520764.052734</td>\n",
       "      <td id=\"T_6bf9e_row2_col3\" class=\"data row2 col3\" >-223695701000000.000000</td>\n",
       "      <td id=\"T_6bf9e_row2_col4\" class=\"data row2 col4\" >-1.000000</td>\n",
       "      <td id=\"T_6bf9e_row2_col5\" class=\"data row2 col5\" >-1.000000</td>\n",
       "      <td id=\"T_6bf9e_row2_col6\" class=\"data row2 col6\" >-1.000000</td>\n",
       "      <td id=\"T_6bf9e_row2_col7\" class=\"data row2 col7\" >1734074740000000.000000</td>\n",
       "    </tr>\n",
       "    <tr>\n",
       "      <th id=\"T_6bf9e_level0_row3\" class=\"row_heading level0 row3\" >2022_06_30</th>\n",
       "      <td id=\"T_6bf9e_row3_col0\" class=\"data row3 col0\" >208691.000000</td>\n",
       "      <td id=\"T_6bf9e_row3_col1\" class=\"data row3 col1\" >516386950793.126709</td>\n",
       "      <td id=\"T_6bf9e_row3_col2\" class=\"data row3 col2\" >13216244168917.128906</td>\n",
       "      <td id=\"T_6bf9e_row3_col3\" class=\"data row3 col3\" >-194169000000000.000000</td>\n",
       "      <td id=\"T_6bf9e_row3_col4\" class=\"data row3 col4\" >-1.000000</td>\n",
       "      <td id=\"T_6bf9e_row3_col5\" class=\"data row3 col5\" >-1.000000</td>\n",
       "      <td id=\"T_6bf9e_row3_col6\" class=\"data row3 col6\" >-1.000000</td>\n",
       "      <td id=\"T_6bf9e_row3_col7\" class=\"data row3 col7\" >1785706841000000.000000</td>\n",
       "    </tr>\n",
       "    <tr>\n",
       "      <th id=\"T_6bf9e_level0_row4\" class=\"row_heading level0 row4\" >2022_09_30</th>\n",
       "      <td id=\"T_6bf9e_row4_col0\" class=\"data row4 col0\" >208691.000000</td>\n",
       "      <td id=\"T_6bf9e_row4_col1\" class=\"data row4 col1\" >273855194832.676239</td>\n",
       "      <td id=\"T_6bf9e_row4_col2\" class=\"data row4 col2\" >9671524174969.433594</td>\n",
       "      <td id=\"T_6bf9e_row4_col3\" class=\"data row4 col3\" >-197134246000000.000000</td>\n",
       "      <td id=\"T_6bf9e_row4_col4\" class=\"data row4 col4\" >-1.000000</td>\n",
       "      <td id=\"T_6bf9e_row4_col5\" class=\"data row4 col5\" >-1.000000</td>\n",
       "      <td id=\"T_6bf9e_row4_col6\" class=\"data row4 col6\" >-1.000000</td>\n",
       "      <td id=\"T_6bf9e_row4_col7\" class=\"data row4 col7\" >1839336498000000.000000</td>\n",
       "    </tr>\n",
       "  </tbody>\n",
       "</table>\n"
      ],
      "text/plain": [
       "<pandas.io.formats.style.Styler at 0x7f290753a950>"
      ]
     },
     "execution_count": 15,
     "metadata": {},
     "output_type": "execute_result"
    }
   ],
   "source": [
    "df_quarter.describe().T.style.background_gradient(cmap = \"Oranges\")"
   ]
  },
  {
   "cell_type": "markdown",
   "id": "cf2ba1e2",
   "metadata": {
    "papermill": {
     "duration": 0.010935,
     "end_time": "2022-12-05T06:33:46.241704",
     "exception": false,
     "start_time": "2022-12-05T06:33:46.230769",
     "status": "completed"
    },
    "tags": []
   },
   "source": [
    "### Correlation Matrix"
   ]
  },
  {
   "cell_type": "code",
   "execution_count": 16,
   "id": "6e14970b",
   "metadata": {
    "execution": {
     "iopub.execute_input": "2022-12-05T06:33:46.267055Z",
     "iopub.status.busy": "2022-12-05T06:33:46.266030Z",
     "iopub.status.idle": "2022-12-05T06:33:46.297858Z",
     "shell.execute_reply": "2022-12-05T06:33:46.296735Z"
    },
    "papermill": {
     "duration": 0.046529,
     "end_time": "2022-12-05T06:33:46.300441",
     "exception": false,
     "start_time": "2022-12-05T06:33:46.253912",
     "status": "completed"
    },
    "tags": []
   },
   "outputs": [
    {
     "data": {
      "text/html": [
       "<style type=\"text/css\">\n",
       "#T_57f9f_row0_col0, #T_57f9f_row1_col1, #T_57f9f_row2_col2, #T_57f9f_row3_col3, #T_57f9f_row4_col4 {\n",
       "  background-color: #7f2704;\n",
       "  color: #f1f1f1;\n",
       "}\n",
       "#T_57f9f_row0_col1, #T_57f9f_row1_col0, #T_57f9f_row2_col3, #T_57f9f_row3_col2 {\n",
       "  background-color: #882a04;\n",
       "  color: #f1f1f1;\n",
       "}\n",
       "#T_57f9f_row0_col2, #T_57f9f_row2_col0 {\n",
       "  background-color: #842904;\n",
       "  color: #f1f1f1;\n",
       "}\n",
       "#T_57f9f_row0_col3, #T_57f9f_row3_col0 {\n",
       "  background-color: #862a04;\n",
       "  color: #f1f1f1;\n",
       "}\n",
       "#T_57f9f_row0_col4, #T_57f9f_row4_col0, #T_57f9f_row4_col1, #T_57f9f_row4_col2, #T_57f9f_row4_col3 {\n",
       "  background-color: #fff5eb;\n",
       "  color: #000000;\n",
       "}\n",
       "#T_57f9f_row1_col2, #T_57f9f_row2_col1 {\n",
       "  background-color: #892b04;\n",
       "  color: #f1f1f1;\n",
       "}\n",
       "#T_57f9f_row1_col3, #T_57f9f_row3_col1 {\n",
       "  background-color: #8a2b04;\n",
       "  color: #f1f1f1;\n",
       "}\n",
       "#T_57f9f_row1_col4 {\n",
       "  background-color: #fff2e6;\n",
       "  color: #000000;\n",
       "}\n",
       "#T_57f9f_row2_col4 {\n",
       "  background-color: #fff4e9;\n",
       "  color: #000000;\n",
       "}\n",
       "#T_57f9f_row3_col4 {\n",
       "  background-color: #fff2e5;\n",
       "  color: #000000;\n",
       "}\n",
       "</style>\n",
       "<table id=\"T_57f9f_\">\n",
       "  <thead>\n",
       "    <tr>\n",
       "      <th class=\"blank level0\" >&nbsp;</th>\n",
       "      <th class=\"col_heading level0 col0\" >2021_09_30</th>\n",
       "      <th class=\"col_heading level0 col1\" >2021_12_31</th>\n",
       "      <th class=\"col_heading level0 col2\" >2022_03_31</th>\n",
       "      <th class=\"col_heading level0 col3\" >2022_06_30</th>\n",
       "      <th class=\"col_heading level0 col4\" >2022_09_30</th>\n",
       "    </tr>\n",
       "  </thead>\n",
       "  <tbody>\n",
       "    <tr>\n",
       "      <th id=\"T_57f9f_level0_row0\" class=\"row_heading level0 row0\" >2021_09_30</th>\n",
       "      <td id=\"T_57f9f_row0_col0\" class=\"data row0 col0\" >1.000000</td>\n",
       "      <td id=\"T_57f9f_row0_col1\" class=\"data row0 col1\" >0.991763</td>\n",
       "      <td id=\"T_57f9f_row0_col2\" class=\"data row0 col2\" >0.994912</td>\n",
       "      <td id=\"T_57f9f_row0_col3\" class=\"data row0 col3\" >0.992244</td>\n",
       "      <td id=\"T_57f9f_row0_col4\" class=\"data row0 col4\" >0.706814</td>\n",
       "    </tr>\n",
       "    <tr>\n",
       "      <th id=\"T_57f9f_level0_row1\" class=\"row_heading level0 row1\" >2021_12_31</th>\n",
       "      <td id=\"T_57f9f_row1_col0\" class=\"data row1 col0\" >0.991763</td>\n",
       "      <td id=\"T_57f9f_row1_col1\" class=\"data row1 col1\" >1.000000</td>\n",
       "      <td id=\"T_57f9f_row1_col2\" class=\"data row1 col2\" >0.990781</td>\n",
       "      <td id=\"T_57f9f_row1_col3\" class=\"data row1 col3\" >0.989919</td>\n",
       "      <td id=\"T_57f9f_row1_col4\" class=\"data row1 col4\" >0.713936</td>\n",
       "    </tr>\n",
       "    <tr>\n",
       "      <th id=\"T_57f9f_level0_row2\" class=\"row_heading level0 row2\" >2022_03_31</th>\n",
       "      <td id=\"T_57f9f_row2_col0\" class=\"data row2 col0\" >0.994912</td>\n",
       "      <td id=\"T_57f9f_row2_col1\" class=\"data row2 col1\" >0.990781</td>\n",
       "      <td id=\"T_57f9f_row2_col2\" class=\"data row2 col2\" >1.000000</td>\n",
       "      <td id=\"T_57f9f_row2_col3\" class=\"data row2 col3\" >0.991237</td>\n",
       "      <td id=\"T_57f9f_row2_col4\" class=\"data row2 col4\" >0.709364</td>\n",
       "    </tr>\n",
       "    <tr>\n",
       "      <th id=\"T_57f9f_level0_row3\" class=\"row_heading level0 row3\" >2022_06_30</th>\n",
       "      <td id=\"T_57f9f_row3_col0\" class=\"data row3 col0\" >0.992244</td>\n",
       "      <td id=\"T_57f9f_row3_col1\" class=\"data row3 col1\" >0.989919</td>\n",
       "      <td id=\"T_57f9f_row3_col2\" class=\"data row3 col2\" >0.991237</td>\n",
       "      <td id=\"T_57f9f_row3_col3\" class=\"data row3 col3\" >1.000000</td>\n",
       "      <td id=\"T_57f9f_row3_col4\" class=\"data row3 col4\" >0.715875</td>\n",
       "    </tr>\n",
       "    <tr>\n",
       "      <th id=\"T_57f9f_level0_row4\" class=\"row_heading level0 row4\" >2022_09_30</th>\n",
       "      <td id=\"T_57f9f_row4_col0\" class=\"data row4 col0\" >0.706814</td>\n",
       "      <td id=\"T_57f9f_row4_col1\" class=\"data row4 col1\" >0.713936</td>\n",
       "      <td id=\"T_57f9f_row4_col2\" class=\"data row4 col2\" >0.709364</td>\n",
       "      <td id=\"T_57f9f_row4_col3\" class=\"data row4 col3\" >0.715875</td>\n",
       "      <td id=\"T_57f9f_row4_col4\" class=\"data row4 col4\" >1.000000</td>\n",
       "    </tr>\n",
       "  </tbody>\n",
       "</table>\n"
      ],
      "text/plain": [
       "<pandas.io.formats.style.Styler at 0x7f28a5f05790>"
      ]
     },
     "execution_count": 16,
     "metadata": {},
     "output_type": "execute_result"
    }
   ],
   "source": [
    "df_quarter.corr().style.background_gradient(cmap = \"Oranges\")"
   ]
  },
  {
   "cell_type": "markdown",
   "id": "f1e0b97d",
   "metadata": {
    "papermill": {
     "duration": 0.011802,
     "end_time": "2022-12-05T06:33:46.325432",
     "exception": false,
     "start_time": "2022-12-05T06:33:46.313630",
     "status": "completed"
    },
    "tags": []
   },
   "source": [
    "## Inspect the columns\n",
    "- **categorical features (barplot):**`account`\n",
    "- **numerical features (distplot):** `2022_09_30`, `2021_09_30`, `2022_06_30`, `2022_03_31`, `2021_12_31`\n",
    "- **categorical features (distplot):** `type`, `symbol`\n",
    "\n",
    "### Inspect Numerical Features"
   ]
  },
  {
   "cell_type": "code",
   "execution_count": 17,
   "id": "5224b458",
   "metadata": {
    "execution": {
     "iopub.execute_input": "2022-12-05T06:33:46.350061Z",
     "iopub.status.busy": "2022-12-05T06:33:46.349617Z",
     "iopub.status.idle": "2022-12-05T06:33:53.094582Z",
     "shell.execute_reply": "2022-12-05T06:33:53.093407Z"
    },
    "papermill": {
     "duration": 6.760149,
     "end_time": "2022-12-05T06:33:53.096728",
     "exception": false,
     "start_time": "2022-12-05T06:33:46.336579",
     "status": "completed"
    },
    "tags": []
   },
   "outputs": [
    {
     "name": "stdout",
     "output_type": "stream",
     "text": [
      "Mean: 273,855,194,832.67624 \n",
      "Median: -1.0 \n",
      "Max: 1,839,336,498,000,000.0\n"
     ]
    },
    {
     "data": {
      "image/png": "[encoded data removed]",
      "text/plain": [
       "<Figure size 1296x216 with 1 Axes>"
      ]
     },
     "metadata": {},
     "output_type": "display_data"
    },
    {
     "name": "stdout",
     "output_type": "stream",
     "text": [
      "Mean: 475,407,541,208.15576 \n",
      "Median: -1.0 \n",
      "Max: 1,637,950,171,000,000.0\n"
     ]
    },
    {
     "data": {
      "image/png": "[encoded data removed]",
      "text/plain": [
       "<Figure size 1296x216 with 1 Axes>"
      ]
     },
     "metadata": {},
     "output_type": "display_data"
    },
    {
     "name": "stdout",
     "output_type": "stream",
     "text": [
      "Mean: 516,386,950,793.1267 \n",
      "Median: -1.0 \n",
      "Max: 1,785,706,841,000,000.0\n"
     ]
    },
    {
     "data": {
      "image/png": "[encoded data removed]",
      "text/plain": [
       "<Figure size 1296x216 with 1 Axes>"
      ]
     },
     "metadata": {},
     "output_type": "display_data"
    },
    {
     "name": "stdout",
     "output_type": "stream",
     "text": [
      "Mean: 496,926,086,344.07666 \n",
      "Median: -1.0 \n",
      "Max: 1,734,074,740,000,000.0\n"
     ]
    },
    {
     "data": {
      "image/png": "[encoded data removed]",
      "text/plain": [
       "<Figure size 1296x216 with 1 Axes>"
      ]
     },
     "metadata": {},
     "output_type": "display_data"
    },
    {
     "name": "stdout",
     "output_type": "stream",
     "text": [
      "Mean: 504,400,456,256.0339 \n",
      "Median: -1.0 \n",
      "Max: 1,725,611,128,000,000.0\n"
     ]
    },
    {
     "data": {
      "image/png": "[encoded data removed]",
      "text/plain": [
       "<Figure size 1296x216 with 1 Axes>"
      ]
     },
     "metadata": {},
     "output_type": "display_data"
    }
   ],
   "source": [
    "\n",
    "numerical_features = ['2022_09_30', '2021_09_30', '2022_06_30', '2022_03_31', '2021_12_31']\n",
    "\n",
    "for feature in numerical_features:\n",
    "    distplot_features(df_quarter, feature=feature, title = feature + \" distribution\", color = custom_colors[2], categorical=False)\n"
   ]
  },
  {
   "cell_type": "markdown",
   "id": "201050f1",
   "metadata": {
    "papermill": {
     "duration": 0.012927,
     "end_time": "2022-12-05T06:33:53.122565",
     "exception": false,
     "start_time": "2022-12-05T06:33:53.109638",
     "status": "completed"
    },
    "tags": []
   },
   "source": [
    "### Inspect Categorical Features"
   ]
  },
  {
   "cell_type": "code",
   "execution_count": 18,
   "id": "38cbb564",
   "metadata": {
    "execution": {
     "iopub.execute_input": "2022-12-05T06:33:53.151602Z",
     "iopub.status.busy": "2022-12-05T06:33:53.151259Z",
     "iopub.status.idle": "2022-12-05T06:33:53.837510Z",
     "shell.execute_reply": "2022-12-05T06:33:53.836683Z"
    },
    "papermill": {
     "duration": 0.702115,
     "end_time": "2022-12-05T06:33:53.839382",
     "exception": false,
     "start_time": "2022-12-05T06:33:53.137267",
     "status": "completed"
    },
    "tags": []
   },
   "outputs": [
    {
     "name": "stdout",
     "output_type": "stream",
     "text": [
      "Mean: 536.4807197943445 \n",
      "Median: 540.0 \n",
      "Max: 1,080\n"
     ]
    },
    {
     "data": {
      "image/png": "[encoded data removed]",
      "text/plain": [
       "<Figure size 1296x216 with 1 Axes>"
      ]
     },
     "metadata": {},
     "output_type": "display_data"
    },
    {
     "name": "stdout",
     "output_type": "stream",
     "text": [
      "Mean: 383.62316176470586 \n",
      "Median: 391.0 \n",
      "Max: 391\n"
     ]
    },
    {
     "data": {
      "image/png": "[encoded data removed]",
      "text/plain": [
       "<Figure size 1296x216 with 1 Axes>"
      ]
     },
     "metadata": {},
     "output_type": "display_data"
    }
   ],
   "source": [
    "\n",
    "categorical_features = ['type', 'symbol'] \n",
    "\n",
    "for feature in categorical_features:\n",
    "    distplot_features(df_quarter, feature=feature, title = feature + \" countplot distribution\", color = custom_colors[3], categorical=True)\n"
   ]
  },
  {
   "cell_type": "markdown",
   "id": "5805e597",
   "metadata": {
    "papermill": {
     "duration": 0.012941,
     "end_time": "2022-12-05T06:33:53.866703",
     "exception": false,
     "start_time": "2022-12-05T06:33:53.853762",
     "status": "completed"
    },
    "tags": []
   },
   "source": [
    "### Inspect Low Cardinality Categorical Features"
   ]
  },
  {
   "cell_type": "code",
   "execution_count": 19,
   "id": "32d4fe87",
   "metadata": {
    "execution": {
     "iopub.execute_input": "2022-12-05T06:33:53.900203Z",
     "iopub.status.busy": "2022-12-05T06:33:53.899480Z",
     "iopub.status.idle": "2022-12-05T06:33:54.208731Z",
     "shell.execute_reply": "2022-12-05T06:33:54.207612Z"
    },
    "papermill": {
     "duration": 0.327815,
     "end_time": "2022-12-05T06:33:54.211019",
     "exception": false,
     "start_time": "2022-12-05T06:33:53.883204",
     "status": "completed"
    },
    "tags": []
   },
   "outputs": [
    {
     "data": {
      "image/png": "[encoded data removed]",
      "text/plain": [
       "<Figure size 1296x216 with 1 Axes>"
      ]
     },
     "metadata": {},
     "output_type": "display_data"
    }
   ],
   "source": [
    "\n",
    "categorical_for_bar = ['account']\n",
    "for feature in categorical_for_bar:\n",
    "    barplot_features(df_quarter, feature=feature, title = feature + \" barplot\", palette = custom_colors)\n"
   ]
  }
 ],
 "metadata": {
  "kernelspec": {
   "display_name": "Python 3 (ipykernel)",
   "language": "python",
   "name": "python3"
  },
  "language_info": {
   "codemirror_mode": {
    "name": "ipython",
    "version": 3
   },
   "file_extension": ".py",
   "mimetype": "text/x-python",
   "name": "python",
   "nbconvert_exporter": "python",
   "pygments_lexer": "ipython3",
   "version": "3.11.5"
  },
  "papermill": {
   "default_parameters": {},
   "duration": 27.491609,
   "end_time": "2022-12-05T06:33:55.252257",
   "environment_variables": {},
   "exception": null,
   "input_path": "__notebook__.ipynb",
   "output_path": "__notebook__.ipynb",
   "parameters": {},
   "start_time": "2022-12-05T06:33:27.760648",
   "version": "2.3.4"
  }
 },
 "nbformat": 4,
 "nbformat_minor": 5
}
